{
 "cells": [
  {
   "cell_type": "code",
   "execution_count": 1,
   "metadata": {},
   "outputs": [],
   "source": [
    "from __future__ import division\n",
    "from api import git_access,api_access\n",
    "from git_understand import git_understand as git_understand\n",
    "from git_log import git2repo\n",
    "import json\n",
    "import pandas as pd\n",
    "import numpy as np\n",
    "import matplotlib.pyplot as plt\n",
    "import math\n",
    "import networkx as nx\n",
    "import re\n",
    "from git_log import git2data,git_commit_info,release_mine\n",
    "import threading\n",
    "from threading import Barrier\n",
    "from multiprocessing import Queue\n",
    "from os.path import dirname as up\n",
    "import os\n",
    "import platform\n",
    "from commit_guru.cas_manager import *"
   ]
  },
  {
   "cell_type": "code",
   "execution_count": null,
   "metadata": {},
   "outputs": [],
   "source": [
    "if platform.system() == 'Darwin' or platform.system() == 'Linux':\n",
    "    data_path = os.getcwd() + '/Test_projects.csv'\n",
    "else:\n",
    "    data_path = os.getcwd() + '\\\\Test_projects.csv'\n",
    "code_path = os.getcwd()\n",
    "project_list = pd.read_csv(data_path)\n",
    "for i in range(project_list.shape[0]):\n",
    "    try:\n",
    "        print(\"I am here\")\n",
    "        understand_source = []\n",
    "        last_analyzed = None\n",
    "        access_token = project_list.loc[i,'access_token']\n",
    "        repo_owner = project_list.loc[i,'repo_owner']\n",
    "        source_type = project_list.loc[i,'source_type']\n",
    "        git_url = project_list.loc[i,'git_url']\n",
    "        api_base_url = project_list.loc[i,'api_base_url']\n",
    "        repo_name = project_list.loc[i,'repo_name']\n",
    "        repo_lang = project_list.loc[i,'lang']\n",
    "        understand_source.append([1,repo_name,git_url,last_analyzed])\n",
    "        understand_source_df = pd.DataFrame(understand_source,columns = ['id','name','url','last_analyzed'])\n",
    "        cas_manager = CAS_Manager(understand_source_df)\n",
    "        cas_manager.start()\n",
    "        git_data = git2data.git2data(access_token,repo_owner,source_type,git_url,api_base_url,repo_name)\n",
    "        #git_data = release_mine.git2data(access_token,repo_owner,source_type,git_url,api_base_url,repo_name)\n",
    "        git_data.create_data()\n",
    "        os.chdir(code_path)\n",
    "        df_commit = pd.read_pickle(up(code_path) + '/data/commit/' + repo_name + '_commit.pkl')\n",
    "        df_commit_guru = pd.read_csv(up(code_path) + '/data/commit_guru/' + repo_name + '.csv')\n",
    "        df_commit_guru_subset = df_commit_guru[['commit_hash','contains_bug']].fillna(False)\n",
    "        df = pd.merge(df_commit,df_commit_guru_subset, on='commit_hash',how='inner')\n",
    "        df.to_pickle(up(code_path) + '/data/commit/' + repo_name + '_commit.pkl')\n",
    "        get_matrix = git_understand.MetricsGetter(git_url,repo_name,repo_lang)\n",
    "        matrix = get_matrix.get_defective_pair_metrics()\n",
    "    except ValueError as e:\n",
    "        print(\"Exception occured for \",project_list.loc[i,'git_url'])\n",
    "        print(e)\n",
    "        continue"
   ]
  },
  {
   "cell_type": "code",
   "execution_count": null,
   "metadata": {},
   "outputs": [],
   "source": [
    "cas_manager = CAS_Manager()\n",
    "cas_manager.start()"
   ]
  },
  {
   "cell_type": "code",
   "execution_count": null,
   "metadata": {},
   "outputs": [],
   "source": [
    "for i in range(project_list.shape[0]):\n",
    "    repo_name = project_list.loc[i,'repo_name']\n",
    "    df_commit = pd.read_pickle('/Users/suvodeepmajumder/Documents/AI4SE/Data_Miner/github/data/commit/' + repo_name + '_commit.pkl')\n",
    "    df_commit_guru = pd.read_csv('/Users/suvodeepmajumder/Documents/AI4SE/Data_Miner/github/data/commit_guru/' + repo_name + '.csv')\n",
    "    df_commit_guru_subset = df_commit_guru[['commit_hash','contains_bug']].fillna(False)\n",
    "    df = pd.merge(df_commit,df_commit_guru_subset, on='commit_hash',how='inner')\n",
    "    df.to_pickle('/Users/suvodeepmajumder/Documents/AI4SE/Data_Miner/github/data/commit/' + repo_name + '_commit.pkl')\n"
   ]
  },
  {
   "cell_type": "code",
   "execution_count": 2,
   "metadata": {},
   "outputs": [
    {
     "name": "stdout",
     "output_type": "stream",
     "text": [
      "     repo_name   repo_owner                                         git_url  \\\n",
      "0  thingsboard  thingsboard  https://github.com/thingsboard/thingsboard.git   \n",
      "\n",
      "            api_base_url  source_type  \\\n",
      "0  http://api.github.com  github_repo   \n",
      "\n",
      "                               access_token  lang  \n",
      "0  88dec2f37347858212890803211cef7bed610562  java  \n",
      "0 ('19d3afa650f6796cfd261bab03c67331e0a601ca', 'f4b32ba333e1938306a729edc1c59857f639dd54')\n",
      "1 ('19d3afa650f6796cfd261bab03c67331e0a601ca', '84bbd412db0cdfb6975660ba06befb5f0d38bd31')\n",
      "2 ('87c665f470617f3e06bd08dc98330fdd02849b86', 'c7f55666a8c0e608e4f1fe37e003c0f0265c5779')\n",
      "6 ('58ec7a335af732810cad08cca96e109a44a7d6a2', 'f6595abbed13f0337cfb0b1743d51f8a7931586e')\n",
      "7 ('163847cddbf788db825e50b4322ffcf7851bebd6', 'd8443495e890d7475386c3547658c6b91951dc96')\n",
      "8 ('54215215c5b60c0bb17b5114b139016d74430b40', 'dc188605d4d988085f2a811b6b275e00a30e854b')\n",
      "9 ('dc188605d4d988085f2a811b6b275e00a30e854b', '6ff2d649741b0579d6fb591e1cfa3d1706649b84')\n"
     ]
    }
   ],
   "source": [
    "if platform.system() == 'Darwin' or platform.system() == 'Linux':\n",
    "    data_path = os.getcwd() + '/Test_projects.csv'\n",
    "else:\n",
    "    data_path = os.getcwd() + '\\\\Test_projects.csv'\n",
    "\n",
    "project_list = pd.read_csv(data_path)\n",
    "print(project_list)\n",
    "\n",
    "for i in range(project_list.shape[0]):\n",
    "    try:\n",
    "        repo_url = project_list.loc[i,'git_url']\n",
    "        repo_name = project_list.loc[i,'repo_name']\n",
    "        repo_lang = project_list.loc[i,'lang']\n",
    "        get_matrix = git_understand.MetricsGetter(repo_url,repo_name,repo_lang)\n",
    "        #commits = get_matrix.read_commits()\n",
    "        #matrix = get_matrix.run()\n",
    "        matrix = get_matrix.get_defective_pair_metrics()\n",
    "    except ValueError:\n",
    "        print(\"Error\")"
   ]
  },
  {
   "cell_type": "code",
   "execution_count": null,
   "metadata": {},
   "outputs": [],
   "source": [
    "df_new = pd.merge(matrix,df_commit_guru, on='commit_hash',how='inner')\n",
    "df_new = df_new.dropna()\n",
    "df_new.to_csv('/Users/suvodeepmajumder/Documents/AI4SE/Data_Miner/github/data/commit_guru_understand/uhabits.csv',index=False)"
   ]
  },
  {
   "cell_type": "code",
   "execution_count": null,
   "metadata": {},
   "outputs": [],
   "source": [
    "matrix_1 = matrix.drop(['Name','commit_hash'],axis = 1)\n",
    "matrix_1 = matrix_1.drop_duplicates()\n",
    "matrix_1.shape"
   ]
  },
  {
   "cell_type": "code",
   "execution_count": null,
   "metadata": {},
   "outputs": [],
   "source": [
    "matrix_1.columns"
   ]
  },
  {
   "cell_type": "code",
   "execution_count": null,
   "metadata": {},
   "outputs": [],
   "source": [
    "os.getcwd()"
   ]
  },
  {
   "cell_type": "code",
   "execution_count": null,
   "metadata": {},
   "outputs": [],
   "source": []
  }
 ],
 "metadata": {
  "kernelspec": {
   "display_name": "Python 3",
   "language": "python",
   "name": "python3"
  },
  "language_info": {
   "codemirror_mode": {
    "name": "ipython",
    "version": 3
   },
   "file_extension": ".py",
   "mimetype": "text/x-python",
   "name": "python",
   "nbconvert_exporter": "python",
   "pygments_lexer": "ipython3",
   "version": "3.7.3"
  }
 },
 "nbformat": 4,
 "nbformat_minor": 2
}
