{
 "cells": [
  {
   "cell_type": "code",
   "execution_count": 2,
   "metadata": {},
   "outputs": [],
   "source": [
    "from __future__ import division\n",
    "from api import git_access,api_access\n",
    "# from git_understand import git_understand_v1 as git_understand\n",
    "from git_log import git2repo\n",
    "import json\n",
    "import pandas as pd\n",
    "import numpy as np\n",
    "import matplotlib.pyplot as plt\n",
    "import math\n",
    "import networkx as nx\n",
    "import re\n",
    "from git_log import git2data,git_commit_info,release_mine,project_url_mine\n",
    "import threading\n",
    "from threading import Barrier\n",
    "from multiprocessing import Queue\n",
    "from os.path import dirname as up\n",
    "import os\n",
    "import platform\n",
    "from commit_guru.cas_manager_v1 import *\n",
    "import platform\n",
    "from os import listdir\n",
    "from os.path import isfile, join\n",
    "from glob import glob\n",
    "from pathlib import Path\n",
    "import sys\n",
    "import os\n",
    "import copy\n",
    "import traceback\n",
    "from pathlib import Path"
   ]
  },
  {
   "cell_type": "markdown",
   "metadata": {},
   "source": [
    "# to check how much has been completed"
   ]
  },
  {
   "cell_type": "code",
   "execution_count": null,
   "metadata": {},
   "outputs": [],
   "source": [
    "df = pd.read_csv('Completed_Repos/understand/understand_done.csv')\n",
    "path = '/Users/suvodeepmajumder/Documents/AI4SE/Data_Miner/github/data/understand_files/'\n",
    "projects = [f for f in listdir(path) if isfile(join(path, f))]\n",
    "for i in range(df.shape[0]):\n",
    "    name = df.loc[i,'repo_name']\n",
    "    name_u = name + '_understand.csv'\n",
    "    if name_u in projects:\n",
    "        df.loc[i,'final_extraction'] = 1\n",
    "    else:\n",
    "        df.loc[i,'final_extraction'] = 0\n",
    "_df = df[df['final_extraction'] == 1]\n",
    "_df = _df.drop_duplicates(['repo_name'])\n",
    "_df.to_csv('Completed_Repos/understand/completed.csv')"
   ]
  },
  {
   "cell_type": "markdown",
   "metadata": {},
   "source": [
    "# To check projects left from last run"
   ]
  },
  {
   "cell_type": "code",
   "execution_count": null,
   "metadata": {},
   "outputs": [],
   "source": [
    "df_total = pd.read_csv('suvodeep_understand.csv')\n",
    "df_completed = pd.read_csv('done_projects_suvo.csv')\n",
    "df_completed.drop(['Unnamed: 0'],axis = 1, inplace = True)\n",
    "df_remaining = df_total[~df_total.repo_name.isin(df_completed.repo_name)].shape\n",
    "df_remaining"
   ]
  },
  {
   "cell_type": "markdown",
   "metadata": {},
   "source": [
    "# Check number of defective commits in projects"
   ]
  },
  {
   "cell_type": "code",
   "execution_count": 5,
   "metadata": {},
   "outputs": [],
   "source": [
    "df = pd.read_csv('Fortran.csv')\n",
    "for i in range(df.shape[0]):\n",
    "    try:\n",
    "        commit_df = pd.read_csv('/Users/suvodeepmajumder/Documents/AI4SE/Data_Miner/github/data/commit_guru/' + df.loc[i,'repo_name'] + '.csv')\n",
    "        df.loc[i,'commits'] = commit_df.shape[0]\n",
    "        commit_df = commit_df[commit_df['contains_bug'] == True] \n",
    "        df.loc[i,'defective'] = commit_df.shape[0]\n",
    "    except:\n",
    "        continue\n",
    "df = df.dropna()\n",
    "df.to_csv('fortran_projects.csv',index=False)"
   ]
  },
  {
   "cell_type": "markdown",
   "metadata": {},
   "source": [
    "# Check if the projects has been mined or not"
   ]
  },
  {
   "cell_type": "code",
   "execution_count": 11,
   "metadata": {},
   "outputs": [],
   "source": []
  },
  {
   "cell_type": "code",
   "execution_count": null,
   "metadata": {},
   "outputs": [],
   "source": []
  }
 ],
 "metadata": {
  "kernelspec": {
   "display_name": "Python 3",
   "language": "python",
   "name": "python3"
  },
  "language_info": {
   "codemirror_mode": {
    "name": "ipython",
    "version": 3
   },
   "file_extension": ".py",
   "mimetype": "text/x-python",
   "name": "python",
   "nbconvert_exporter": "python",
   "pygments_lexer": "ipython3",
   "version": "3.7.3"
  }
 },
 "nbformat": 4,
 "nbformat_minor": 2
}
