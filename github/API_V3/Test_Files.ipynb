{
 "cells": [
  {
   "cell_type": "code",
   "execution_count": null,
   "metadata": {},
   "outputs": [],
   "source": [
    "from __future__ import division\n",
    "from api import git_access,api_access\n",
    "from git_understand import git_understand_v1 as git_understand\n",
    "from git_log import git2repo\n",
    "import json\n",
    "import pandas as pd\n",
    "import numpy as np\n",
    "import matplotlib.pyplot as plt\n",
    "import math\n",
    "import networkx as nx\n",
    "import re\n",
    "from git_log import git2data,git_commit_info,release_mine\n",
    "import threading\n",
    "from threading import Barrier\n",
    "from multiprocessing import Queue\n",
    "from os.path import dirname as up\n",
    "import os\n",
    "import platform\n",
    "from commit_guru.cas_manager_v1 import *"
   ]
  },
  {
   "cell_type": "code",
   "execution_count": null,
   "metadata": {},
   "outputs": [],
   "source": [
    "if platform.system() == 'Darwin' or platform.system() == 'Linux':\n",
    "    data_path = os.getcwd() + '/Test_projects.csv'\n",
    "else:\n",
    "    data_path = os.getcwd() + '\\\\Test_projects.csv'\n",
    "code_path = os.getcwd()\n",
    "project_list = pd.read_csv(data_path)\n",
    "for i in range(project_list.shape[0]):\n",
    "#     try:\n",
    "    print(\"I am here\")\n",
    "    understand_source = []\n",
    "    last_analyzed = None\n",
    "    access_token = project_list.loc[i,'access_token']\n",
    "    repo_owner = project_list.loc[i,'repo_owner']\n",
    "    source_type = project_list.loc[i,'source_type']\n",
    "    git_url = project_list.loc[i,'git_url']\n",
    "    api_base_url = project_list.loc[i,'api_base_url']\n",
    "    repo_name = project_list.loc[i,'repo_name']\n",
    "    repo_lang = project_list.loc[i,'lang']\n",
    "    understand_source.append([1,repo_name,git_url,last_analyzed])\n",
    "    understand_source_df = pd.DataFrame(understand_source,columns = ['id','name','url','last_analyzed'])\n",
    "    cas_manager = CAS_Manager(understand_source_df)\n",
    "    cas_manager.run()\n",
    "    os.chdir(code_path)\n",
    "#         git_data = git2data.git2data(access_token,repo_owner,source_type,git_url,api_base_url,repo_name)\n",
    "#         #git_data = release_mine.git2data(access_token,repo_owner,source_type,git_url,api_base_url,repo_name)\n",
    "#         git_data.create_data()\n",
    "#         df_commit = pd.read_pickle(up(code_path) + '/data/commit/' + repo_name + '_commit.pkl')\n",
    "#         df_commit_guru = pd.read_csv(up(code_path) + '/data/commit_guru/' + repo_name + '.csv')\n",
    "#         df_commit_guru_subset = df_commit_guru[['commit_hash','contains_bug']].fillna(False)\n",
    "#         df = pd.merge(df_commit,df_commit_guru_subset, on='commit_hash',how='inner')\n",
    "#         df.to_pickle(up(code_path) + '/data/commit/' + repo_name + '_commit.pkl')\n",
    "    get_matrix = git_understand.MetricsGetter(git_url,repo_name,repo_lang)\n",
    "    matrix = get_matrix.get_defective_pair_metrics()\n",
    "#     except as e:\n",
    "#         print(\"Exception occured for \",project_list.loc[i,'git_url'])\n",
    "#         print(e)\n",
    "#         continue"
   ]
  },
  {
   "cell_type": "code",
   "execution_count": null,
   "metadata": {},
   "outputs": [],
   "source": [
    "cas_manager = CAS_Manager()\n",
    "cas_manager.start()"
   ]
  },
  {
   "cell_type": "code",
   "execution_count": null,
   "metadata": {},
   "outputs": [],
   "source": [
    "for i in range(project_list.shape[0]):\n",
    "    repo_name = project_list.loc[i,'repo_name']\n",
    "    df_commit = pd.read_pickle('/Users/suvodeepmajumder/Documents/AI4SE/Data_Miner/github/data/commit/' + repo_name + '_commit.pkl')\n",
    "    df_commit_guru = pd.read_csv('/Users/suvodeepmajumder/Documents/AI4SE/Data_Miner/github/data/commit_guru/' + repo_name + '.csv')\n",
    "    df_commit_guru_subset = df_commit_guru[['commit_hash','contains_bug']].fillna(False)\n",
    "    df = pd.merge(df_commit,df_commit_guru_subset, on='commit_hash',how='inner')\n",
    "    df.to_pickle('/Users/suvodeepmajumder/Documents/AI4SE/Data_Miner/github/data/commit/' + repo_name + '_commit.pkl')\n"
   ]
  },
  {
   "cell_type": "code",
   "execution_count": null,
   "metadata": {},
   "outputs": [],
   "source": [
    "if platform.system() == 'Darwin' or platform.system() == 'Linux':\n",
    "    data_path = os.getcwd() + '/Test_projects.csv'\n",
    "else:\n",
    "    data_path = os.getcwd() + '\\\\Test_projects.csv'\n",
    "\n",
    "project_list = pd.read_csv(data_path)\n",
    "print(project_list)\n",
    "\n",
    "for i in range(project_list.shape[0]):\n",
    "    try:\n",
    "        repo_url = project_list.loc[i,'git_url']\n",
    "        repo_name = project_list.loc[i,'repo_name']\n",
    "        repo_lang = project_list.loc[i,'lang']\n",
    "        get_matrix = git_understand.MetricsGetter(repo_url,repo_name,repo_lang)\n",
    "        #commits = get_matrix.read_commits()\n",
    "        #matrix = get_matrix.run()\n",
    "        matrix = get_matrix.get_defective_pair_metrics()\n",
    "    except ValueError:\n",
    "        print(\"Error\")"
   ]
  },
  {
   "cell_type": "code",
   "execution_count": null,
   "metadata": {},
   "outputs": [],
   "source": [
    "df_new = pd.merge(matrix,df_commit_guru, on='commit_hash',how='inner')\n",
    "df_new = df_new.dropna()\n",
    "df_new.to_csv('/Users/suvodeepmajumder/Documents/AI4SE/Data_Miner/github/data/commit_guru_understand/uhabits.csv',index=False)"
   ]
  },
  {
   "cell_type": "code",
   "execution_count": null,
   "metadata": {},
   "outputs": [],
   "source": [
    "matrix_1 = matrix.drop(['Name','commit_hash'],axis = 1)\n",
    "matrix_1 = matrix_1.drop_duplicates()\n",
    "matrix_1.shape"
   ]
  },
  {
   "cell_type": "code",
   "execution_count": null,
   "metadata": {},
   "outputs": [],
   "source": [
    "matrix_1.columns"
   ]
  },
  {
   "cell_type": "code",
   "execution_count": null,
   "metadata": {},
   "outputs": [],
   "source": [
    "os.getcwd()"
   ]
  },
  {
   "cell_type": "code",
   "execution_count": null,
   "metadata": {},
   "outputs": [],
   "source": [
    "if platform.system() == 'Darwin' or platform.system() == 'Linux':\n",
    "    data_path = os.getcwd() + '/Test_projects.csv'\n",
    "else:\n",
    "    data_path = os.getcwd() + '\\\\Test_projects.csv'\n",
    "code_path = os.getcwd()\n",
    "project_list = pd.read_csv(data_path)\n",
    "for i in range(project_list.shape[0]):\n",
    "#     try:\n",
    "    print(\"I am here\")\n",
    "    understand_source = []\n",
    "    last_analyzed = None\n",
    "    access_token = project_list.loc[i,'access_token']\n",
    "    repo_owner = project_list.loc[i,'repo_owner']\n",
    "    source_type = project_list.loc[i,'source_type']\n",
    "    git_url = project_list.loc[i,'git_url']\n",
    "    api_base_url = project_list.loc[i,'api_base_url']\n",
    "    repo_name = project_list.loc[i,'repo_name']\n",
    "    repo_lang = project_list.loc[i,'lang']\n",
    "    git_client = api_access.git_api_access(access_token,repo_owner,source_type,git_url,api_base_url,repo_name)\n",
    "    langs = git_client.get_lang()\n",
    "    project_list.loc[i,'lang'] = langs[0]"
   ]
  },
  {
   "cell_type": "code",
   "execution_count": null,
   "metadata": {},
   "outputs": [],
   "source": [
    "project_list"
   ]
  },
  {
   "cell_type": "code",
   "execution_count": null,
   "metadata": {},
   "outputs": [],
   "source": [
    "project_list.to_csv('projects.csv')"
   ]
  },
  {
   "cell_type": "code",
   "execution_count": 8,
   "metadata": {},
   "outputs": [],
   "source": [
    "df1 = pd.read_csv('p_lists.csv')\n",
    "lists = df1.Projects.values.tolist()"
   ]
  },
  {
   "cell_type": "code",
   "execution_count": 11,
   "metadata": {},
   "outputs": [],
   "source": [
    "df2 = pd.read_csv('Test_projects.csv')"
   ]
  },
  {
   "cell_type": "code",
   "execution_count": 21,
   "metadata": {},
   "outputs": [],
   "source": [
    "for i in range(df2.shape[0]):\n",
    "    project = df2.loc[i,'repo_name']\n",
    "    if project in lists:\n",
    "        df2.loc[i,'done'] = 1\n",
    "    else:\n",
    "        df2.loc[i,'done'] = 0"
   ]
  },
  {
   "cell_type": "code",
   "execution_count": 24,
   "metadata": {},
   "outputs": [],
   "source": [
    "df2.to_csv('Test_projects.csv')"
   ]
  },
  {
   "cell_type": "code",
   "execution_count": 18,
   "metadata": {},
   "outputs": [
    {
     "data": {
      "text/plain": [
       "True"
      ]
     },
     "execution_count": 18,
     "metadata": {},
     "output_type": "execute_result"
    }
   ],
   "source": [
    "'PushSharp' in lists"
   ]
  },
  {
   "cell_type": "code",
   "execution_count": null,
   "metadata": {},
   "outputs": [],
   "source": []
  }
 ],
 "metadata": {
  "kernelspec": {
   "display_name": "Python 3",
   "language": "python",
   "name": "python3"
  },
  "language_info": {
   "codemirror_mode": {
    "name": "ipython",
    "version": 3
   },
   "file_extension": ".py",
   "mimetype": "text/x-python",
   "name": "python",
   "nbconvert_exporter": "python",
   "pygments_lexer": "ipython3",
   "version": "3.7.3"
  }
 },
 "nbformat": 4,
 "nbformat_minor": 2
}
