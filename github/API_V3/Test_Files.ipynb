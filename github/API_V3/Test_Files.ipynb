{
 "cells": [
  {
   "cell_type": "code",
   "execution_count": 1,
   "metadata": {},
   "outputs": [],
   "source": [
    "from __future__ import division\n",
    "from api import git_access,api_access\n",
    "from git_understand import git_understand as git_understand\n",
    "from git_log import git2repo\n",
    "import json\n",
    "import pandas as pd\n",
    "import numpy as np\n",
    "import matplotlib.pyplot as plt\n",
    "import math\n",
    "import networkx as nx\n",
    "import re\n",
    "from git_log import git2data,git_commit_info,release_mine\n",
    "import threading\n",
    "from threading import Barrier\n",
    "from multiprocessing import Queue\n",
    "from os.path import dirname as up\n",
    "import os\n",
    "import platform\n",
    "from commit_guru.cas_manager import *"
   ]
  },
  {
   "cell_type": "code",
   "execution_count": 2,
   "metadata": {},
   "outputs": [
    {
     "name": "stderr",
     "output_type": "stream",
     "text": [
      "2020-01-09 08:57:40 INFO: Adding repo thingsboard to work queue for ingesting\n",
      "2020-01-09 08:57:40 INFO: A worker is starting scan repository: thingsboard\n"
     ]
    },
    {
     "name": "stdout",
     "output_type": "stream",
     "text": [
      "I am here\n",
      "   id         name                                             url  \\\n",
      "0   1  thingsboard  https://github.com/thingsboard/thingsboard.git   \n",
      "\n",
      "  last_analyzed  \n",
      "0          None  \n",
      "http://api.github.com/repos/thingsboard/thingsboard/issues?state=all&page=1&per_page=100\n",
      "The repo is: thingsboard\n",
      "This is the current path: /Users/suvodeepmajumder/Documents/AI4SE/Data_Miner/github/API_V3/commit_guru/ingester/CASRepos/git/thingsboard\n",
      "working on pulling\n"
     ]
    },
    {
     "name": "stderr",
     "output_type": "stream",
     "text": [
      "2020-01-09 08:57:40 INFO: Pulling latest changes from repo: thingsboard\n",
      "2020-01-09 08:57:40 INFO: Done fetching.\n",
      "2020-01-09 08:57:40 INFO: Getting/parsing git commits: thingsboard\n"
     ]
    },
    {
     "name": "stdout",
     "output_type": "stream",
     "text": [
      "http://api.github.com/repos/thingsboard/thingsboard/issues?state=all&page=2&per_page=100\n",
      "http://api.github.com/repos/thingsboard/thingsboard/issues?state=all&page=3&per_page=100\n"
     ]
    },
    {
     "name": "stderr",
     "output_type": "stream",
     "text": [
      "2020-01-09 08:57:43 INFO: Done getting/parsing git commits.\n",
      "2020-01-09 08:57:43 INFO: Saving commits to the csv...\n",
      "2020-01-09 08:57:43 INFO: Done saving commits to the csv.\n",
      "2020-01-09 08:57:43 INFO: A worker finished ingesting repo thingsboard\n",
      "2020-01-09 08:57:43 INFO: Adding repo thingsboard to work queue for analyzing.\n",
      "2020-01-09 08:57:43 INFO: Worker analyzing repository  thingsboard\n",
      "2020-01-09 08:57:43 INFO: Linking 526 new corrective commits for repo thingsboard\n",
      "2020-01-09 08:57:43 INFO: Linkage for commit f4b32ba333e1938306a729edc1c59857f639dd54\n"
     ]
    },
    {
     "name": "stdout",
     "output_type": "stream",
     "text": [
      "======================== 2020-01-09 08:57:43.783816 2019-12-10 08:57:43.783807\n"
     ]
    },
    {
     "name": "stderr",
     "output_type": "stream",
     "text": [
      "/Users/suvodeepmajumder/Documents/AI4SE/Data_Miner/github/API_V3/commit_guru/analyzer/git_commit_linker.py:53: SettingWithCopyWarning: \n",
      "A value is trying to be set on a copy of a slice from a DataFrame\n",
      "\n",
      "See the caveats in the documentation: http://pandas.pydata.org/pandas-docs/stable/indexing.html#indexing-view-versus-copy\n",
      "  corrective_commit['linked'] = True # mark that we have linked this corrective commit.\n",
      "/Users/suvodeepmajumder/Conda/anaconda3/lib/python3.7/site-packages/pandas/core/series.py:1015: SettingWithCopyWarning: \n",
      "A value is trying to be set on a copy of a slice from a DataFrame\n",
      "\n",
      "See the caveats in the documentation: http://pandas.pydata.org/pandas-docs/stable/indexing.html#indexing-view-versus-copy\n",
      "  self.loc[key] = value\n",
      "2020-01-09 08:57:44 INFO: Linkage for commit c7f55666a8c0e608e4f1fe37e003c0f0265c5779\n",
      "2020-01-09 08:57:44 INFO: Linkage for commit fb2e905295a649995f4916e5be254d84056d8035\n"
     ]
    },
    {
     "name": "stdout",
     "output_type": "stream",
     "text": [
      "http://api.github.com/repos/thingsboard/thingsboard/issues?state=all&page=4&per_page=100\n"
     ]
    },
    {
     "name": "stderr",
     "output_type": "stream",
     "text": [
      "2020-01-09 08:57:44 INFO: Linkage for commit 9ee06e0efb05a75651e3d2bca55d2f79f3734b45\n",
      "2020-01-09 08:57:44 INFO: Linkage for commit ea9c8d2b61815fbef152d96cf619609b95916956\n",
      "2020-01-09 08:57:44 INFO: Linkage for commit dc188605d4d988085f2a811b6b275e00a30e854b\n",
      "2020-01-09 08:57:44 INFO: Linkage for commit f6595abbed13f0337cfb0b1743d51f8a7931586e\n",
      "2020-01-09 08:57:45 INFO: Linkage for commit 6ff2d649741b0579d6fb591e1cfa3d1706649b84\n",
      "2020-01-09 08:57:45 INFO: Linkage for commit d8443495e890d7475386c3547658c6b91951dc96\n",
      "2020-01-09 08:57:45 INFO: Linkage for commit 19028c0913e5fadd57a8c0cc6a95f02d0de71f0f\n",
      "2020-01-09 08:57:45 INFO: Linkage for commit ec188b8e28f936d1ccac5b4689a5a8c137d22d27\n",
      "2020-01-09 08:57:45 INFO: Linkage for commit 459a1998783cd305a66320dea367d4680db6274e\n",
      "2020-01-09 08:57:45 INFO: Linkage for commit 95f5b3b19d4f3568d15148e562287602d0615d97\n"
     ]
    },
    {
     "name": "stdout",
     "output_type": "stream",
     "text": [
      "http://api.github.com/repos/thingsboard/thingsboard/issues?state=all&page=5&per_page=100\n"
     ]
    },
    {
     "name": "stderr",
     "output_type": "stream",
     "text": [
      "2020-01-09 08:57:45 INFO: Linkage for commit 9c616bd3a3feaf7898c13bfe1fc6b2844153b554\n",
      "2020-01-09 08:57:46 INFO: Linkage for commit 9721755d23352bf6ff665af57296ec3c0b5b3532\n",
      "2020-01-09 08:57:46 INFO: Linkage for commit 5ff54540337f702caacff5be9552691b0f03350e\n",
      "2020-01-09 08:57:46 INFO: Linkage for commit 788d71f1ccfab62eb0c445062000112abfc1712a\n"
     ]
    },
    {
     "name": "stdout",
     "output_type": "stream",
     "text": [
      "http://api.github.com/repos/thingsboard/thingsboard/issues?state=all&page=6&per_page=100\n",
      "http://api.github.com/repos/thingsboard/thingsboard/issues?state=all&page=7&per_page=100\n"
     ]
    },
    {
     "name": "stderr",
     "output_type": "stream",
     "text": [
      "2020-01-09 08:57:49 INFO: Linkage for commit 7cc3d6880d2cc4549d31ea28254470d93400aef0\n",
      "2020-01-09 08:57:49 INFO: Linkage for commit 4971e30174c5edf8aae67933f8819f393771f47f\n",
      "2020-01-09 08:57:49 INFO: Linkage for commit 92487c2a60d13033e26bd8224d8deb6a665a181c\n",
      "2020-01-09 08:57:49 INFO: Linkage for commit f3c15e9ad63237d9228f33c01f6af11c5e21f53e\n",
      "2020-01-09 08:57:49 INFO: Linkage for commit 40e5c64451344f256e3289d61c4ca1306043f9c2\n",
      "2020-01-09 08:57:50 INFO: Linkage for commit e3c823ef37d4971e5964854c2e080e663cb156c5\n"
     ]
    },
    {
     "name": "stdout",
     "output_type": "stream",
     "text": [
      "http://api.github.com/repos/thingsboard/thingsboard/issues?state=all&page=8&per_page=100\n"
     ]
    },
    {
     "name": "stderr",
     "output_type": "stream",
     "text": [
      "2020-01-09 08:57:50 INFO: Linkage for commit 04d97315f1455ca3e505b966a5433fac079969a5\n",
      "2020-01-09 08:57:50 INFO: Linkage for commit e3619ecb0c6f20878ff308eb9a1096c458d8c7f7\n",
      "2020-01-09 08:57:51 INFO: Linkage for commit 5231a33788afd9c62abd3cff88bc29cf2a272bce\n"
     ]
    },
    {
     "name": "stdout",
     "output_type": "stream",
     "text": [
      "http://api.github.com/repos/thingsboard/thingsboard/issues?state=all&page=9&per_page=100\n"
     ]
    },
    {
     "name": "stderr",
     "output_type": "stream",
     "text": [
      "2020-01-09 08:57:51 INFO: Linkage for commit 1ed9ade810830925c588166c46909f5944e88689\n",
      "2020-01-09 08:57:51 INFO: Linkage for commit 3af5f750a57283a40e65930306465a43c54f832d\n",
      "2020-01-09 08:57:51 INFO: Linkage for commit 7fc712a3f7aaaf243eda351c7d095032ba70b396\n"
     ]
    },
    {
     "name": "stdout",
     "output_type": "stream",
     "text": [
      "http://api.github.com/repos/thingsboard/thingsboard/issues?state=all&page=10&per_page=100\n"
     ]
    },
    {
     "name": "stderr",
     "output_type": "stream",
     "text": [
      "2020-01-09 08:57:53 INFO: Linkage for commit b502a1951774a3c186a422e28fe68e7e2f5c0d29\n",
      "2020-01-09 08:57:53 INFO: Linkage for commit 0bdf246383e35eef8270555398515785eb38668c\n"
     ]
    },
    {
     "name": "stdout",
     "output_type": "stream",
     "text": [
      "http://api.github.com/repos/thingsboard/thingsboard/issues?state=all&page=11&per_page=100\n"
     ]
    },
    {
     "name": "stderr",
     "output_type": "stream",
     "text": [
      "2020-01-09 08:57:54 INFO: Linkage for commit 11701fa42b528963036a030ea88ed31d0c181316\n",
      "2020-01-09 08:57:54 INFO: Linkage for commit 50cc39c7f647164fe39b66c824b5bd7dd563c7d2\n",
      "2020-01-09 08:57:54 INFO: Linkage for commit 71308c3da47dd28693d1f2054d4bca214045ec47\n",
      "2020-01-09 08:57:54 INFO: Linkage for commit ac5b0f18dd42ee477180b75fd7393ad5f34da2d0\n",
      "2020-01-09 08:57:55 INFO: Linkage for commit 96d344fabd559d2f60e57ea4ffa02353a8db0a5f\n"
     ]
    },
    {
     "name": "stdout",
     "output_type": "stream",
     "text": [
      "http://api.github.com/repos/thingsboard/thingsboard/issues?state=all&page=12&per_page=100\n"
     ]
    },
    {
     "name": "stderr",
     "output_type": "stream",
     "text": [
      "2020-01-09 08:57:56 INFO: Linkage for commit 83f179e8c776e205cfdc4e15c06f6fd4f1473bee\n",
      "2020-01-09 08:57:56 INFO: Linkage for commit 522d392777cb41453a46fd820eee125dfe06072f\n",
      "2020-01-09 08:57:56 INFO: Linkage for commit 81adf02f8ad32ec81bc268f568099f4dd746359c\n",
      "2020-01-09 08:57:56 INFO: Linkage for commit ed6de776e458e53b9085b554927f7f4cfd771233\n"
     ]
    },
    {
     "name": "stdout",
     "output_type": "stream",
     "text": [
      "http://api.github.com/repos/thingsboard/thingsboard/issues?state=all&page=13&per_page=100\n"
     ]
    },
    {
     "name": "stderr",
     "output_type": "stream",
     "text": [
      "2020-01-09 08:57:56 INFO: Linkage for commit 1623c21021a09b041166e5937fff50e6fb493930\n",
      "2020-01-09 08:57:56 INFO: Linkage for commit aaf3c5d4390fefd11d5ab69cc05d156eee6f7df2\n",
      "2020-01-09 08:57:57 INFO: Linkage for commit 1e39410802031618d7b9d2e82a18777553bdb0f0\n",
      "2020-01-09 08:57:57 INFO: Linkage for commit 96dad362c3dbff77dc3c6c8df87d6f19d5eb51bf\n",
      "2020-01-09 08:57:57 INFO: Linkage for commit 7120d61f59eb1e72ab16c643ca95003e3ae93a2f\n",
      "2020-01-09 08:57:57 INFO: Linkage for commit 8604afad38ca335bf0a16217876667b1bf631e82\n"
     ]
    },
    {
     "name": "stdout",
     "output_type": "stream",
     "text": [
      "http://api.github.com/repos/thingsboard/thingsboard/issues?state=all&page=14&per_page=100\n"
     ]
    },
    {
     "name": "stderr",
     "output_type": "stream",
     "text": [
      "2020-01-09 08:57:58 INFO: Linkage for commit fb8bdf1ecb0d14de66bea7c5ec5da98561a18dfd\n",
      "2020-01-09 08:57:58 INFO: Linkage for commit d850f92c7b7dfdaba37e95151cceeddcabc19d05\n",
      "2020-01-09 08:57:58 INFO: Linkage for commit 9a6d98444172b0fd55188bbd46f475a62e251825\n",
      "2020-01-09 08:57:58 INFO: Linkage for commit 8e4d704b846b4d1d2855e85d16fa27e2d1bd0f78\n",
      "2020-01-09 08:57:58 INFO: Linkage for commit 410d197a340b1db3ebe71ee023a86659b5f38403\n",
      "2020-01-09 08:57:59 INFO: Linkage for commit f7bbe2136bcaacee98777e2f0c96330b033500db\n"
     ]
    },
    {
     "name": "stdout",
     "output_type": "stream",
     "text": [
      "http://api.github.com/repos/thingsboard/thingsboard/issues?state=all&page=15&per_page=100\n"
     ]
    },
    {
     "name": "stderr",
     "output_type": "stream",
     "text": [
      "2020-01-09 08:57:59 INFO: Linkage for commit 5e2393eeda1835bce054318dc2c7d8321ad117c0\n",
      "2020-01-09 08:57:59 INFO: Linkage for commit 4af67822a12dffdf0b3be934dcf3361ff0d20963\n",
      "2020-01-09 08:58:00 INFO: Linkage for commit 6a62b6495358cc00a671af287b9d0827c1669b02\n",
      "2020-01-09 08:58:00 INFO: Linkage for commit 7d514d8cadae746a8055201f582cf390a921b2d8\n"
     ]
    },
    {
     "name": "stdout",
     "output_type": "stream",
     "text": [
      "http://api.github.com/repos/thingsboard/thingsboard/issues?state=all&page=16&per_page=100\n"
     ]
    },
    {
     "name": "stderr",
     "output_type": "stream",
     "text": [
      "2020-01-09 08:58:00 INFO: Linkage for commit 0e31cd4cb4131405063029f25dcf2558c637453d\n",
      "2020-01-09 08:58:01 INFO: Linkage for commit 5f92fd29d299eff7bd01f125b98ef56dcfa3429e\n",
      "2020-01-09 08:58:01 INFO: Linkage for commit 0ce99115cf32debba93d5445d23f63806413e590\n",
      "2020-01-09 08:58:01 INFO: Linkage for commit 613ebc9065834eec62938d2555089584eceef2d6\n",
      "2020-01-09 08:58:02 INFO: Linkage for commit 2349af5d42bd83a9b747d5195c0c828027ecc7a7\n",
      "2020-01-09 08:58:02 INFO: Linkage for commit b8b27ec3f2a036e1db965468d1b96ace8c23d92f\n"
     ]
    },
    {
     "name": "stdout",
     "output_type": "stream",
     "text": [
      "http://api.github.com/repos/thingsboard/thingsboard/issues?state=all&page=17&per_page=100\n"
     ]
    },
    {
     "name": "stderr",
     "output_type": "stream",
     "text": [
      "2020-01-09 08:58:02 INFO: Linkage for commit 3534684588523b3d3a77d7bd697cc20520963d45\n"
     ]
    },
    {
     "name": "stdout",
     "output_type": "stream",
     "text": [
      "http://api.github.com/repos/thingsboard/thingsboard/issues?state=all&page=18&per_page=100\n",
      "http://api.github.com/repos/thingsboard/thingsboard/issues?state=all&page=19&per_page=100\n",
      "http://api.github.com/repos/thingsboard/thingsboard/issues?state=all&page=20&per_page=100\n",
      "http://api.github.com/repos/thingsboard/thingsboard/issues?state=all&page=21&per_page=100\n",
      "http://api.github.com/repos/thingsboard/thingsboard/issues?state=all&page=22&per_page=100\n",
      "http://api.github.com/repos/thingsboard/thingsboard/issues?state=all&page=23&per_page=100\n"
     ]
    },
    {
     "name": "stderr",
     "output_type": "stream",
     "text": [
      "2020-01-09 08:58:10 INFO: Linkage for commit 29ae5b504c1751e1a1315da4d774396d1ed136c5\n",
      "2020-01-09 08:58:11 INFO: Linkage for commit cb41480be717ab7e64636d9f7879b6027bef35e4\n"
     ]
    },
    {
     "name": "stdout",
     "output_type": "stream",
     "text": [
      "http://api.github.com/repos/thingsboard/thingsboard/issues?state=all&page=24&per_page=100\n",
      "http://api.github.com/repos/thingsboard/thingsboard/releases?page=1&per_page=100\n"
     ]
    },
    {
     "name": "stderr",
     "output_type": "stream",
     "text": [
      "2020-01-09 08:58:12 INFO: Linkage for commit 1b469df40c801a1df9c10ed159ca6ef484051e25\n"
     ]
    },
    {
     "name": "stdout",
     "output_type": "stream",
     "text": [
      "http://api.github.com/repos/thingsboard/thingsboard/issues/events?page=1&per_page=100\n"
     ]
    },
    {
     "name": "stderr",
     "output_type": "stream",
     "text": [
      "2020-01-09 08:58:12 INFO: Linkage for commit 0bc4252f976582d378bdbc9a6c700ee928a11c4a\n",
      "2020-01-09 08:58:12 INFO: Linkage for commit df4f5f9ad96ab4e9630b4549ed673a8694278adb\n",
      "2020-01-09 08:58:12 INFO: Linkage for commit 08f7e48f94da6e45505b85a8d838b3579ff5fb32\n",
      "2020-01-09 08:58:12 INFO: Linkage for commit 5ab6e886bcd1589961124787cf3233e5d8a0d6d1\n"
     ]
    },
    {
     "name": "stdout",
     "output_type": "stream",
     "text": [
      "http://api.github.com/repos/thingsboard/thingsboard/issues/events?page=2&per_page=100\n",
      "http://api.github.com/repos/thingsboard/thingsboard/issues/events?page=3&per_page=100\n",
      "http://api.github.com/repos/thingsboard/thingsboard/issues/events?page=4&per_page=100\n",
      "http://api.github.com/repos/thingsboard/thingsboard/issues/events?page=5&per_page=100\n",
      "http://api.github.com/repos/thingsboard/thingsboard/issues/events?page=6&per_page=100\n",
      "http://api.github.com/repos/thingsboard/thingsboard/issues/events?page=7&per_page=100\n",
      "http://api.github.com/repos/thingsboard/thingsboard/issues/events?page=8&per_page=100\n",
      "http://api.github.com/repos/thingsboard/thingsboard/issues/events?page=9&per_page=100\n"
     ]
    },
    {
     "name": "stderr",
     "output_type": "stream",
     "text": [
      "2020-01-09 08:58:20 INFO: Linkage for commit 3c47789a3f8343038da2228c33acbfd29845082d\n",
      "2020-01-09 08:58:20 INFO: Linkage for commit 849f53ca4c973c0a39e6de6d3db35c4e0e56d217\n",
      "2020-01-09 08:58:21 INFO: Linkage for commit 4e45d24fd1882679aec123c285a84835c5d7d4b3\n"
     ]
    },
    {
     "name": "stdout",
     "output_type": "stream",
     "text": [
      "http://api.github.com/repos/thingsboard/thingsboard/issues/events?page=10&per_page=100\n"
     ]
    },
    {
     "name": "stderr",
     "output_type": "stream",
     "text": [
      "2020-01-09 08:58:21 INFO: Linkage for commit f69c31f07777dd006a40fca07d1df83de44df36a\n",
      "2020-01-09 08:58:21 INFO: Linkage for commit 09858d651535ac73102d692dc7b46f6e91e6928b\n",
      "2020-01-09 08:58:21 INFO: Linkage for commit 1983235b3fbbc21d722aacf36994f696d04afc19\n"
     ]
    },
    {
     "name": "stdout",
     "output_type": "stream",
     "text": [
      "http://api.github.com/repos/thingsboard/thingsboard/issues/events?page=11&per_page=100\n",
      "http://api.github.com/repos/thingsboard/thingsboard/issues/events?page=12&per_page=100\n",
      "http://api.github.com/repos/thingsboard/thingsboard/issues/events?page=13&per_page=100\n"
     ]
    },
    {
     "name": "stderr",
     "output_type": "stream",
     "text": [
      "2020-01-09 08:58:24 INFO: Linkage for commit f6e7668ebaf0831796cb43466a5ed8cea0b2b549\n",
      "2020-01-09 08:58:25 INFO: Linkage for commit 52d53c952e18dc41fa4c414c62f705a025dcae36\n"
     ]
    },
    {
     "name": "stdout",
     "output_type": "stream",
     "text": [
      "http://api.github.com/repos/thingsboard/thingsboard/issues/events?page=14&per_page=100\n"
     ]
    },
    {
     "name": "stderr",
     "output_type": "stream",
     "text": [
      "2020-01-09 08:58:25 INFO: Linkage for commit 611995121b48f89550a50e6e54a8e11fadc5f2c2\n",
      "2020-01-09 08:58:25 INFO: Linkage for commit 47361b016624dfd8b7eaf27a493b4e26d09c4b9d\n",
      "2020-01-09 08:58:26 INFO: Linkage for commit ea5f4d78f0ba7ba793a1e8a75ab67f86beba07e1\n"
     ]
    },
    {
     "name": "stdout",
     "output_type": "stream",
     "text": [
      "http://api.github.com/repos/thingsboard/thingsboard/issues/events?page=15&per_page=100\n"
     ]
    },
    {
     "name": "stderr",
     "output_type": "stream",
     "text": [
      "2020-01-09 08:58:26 INFO: Linkage for commit 3c3a4e4c743a932227359dc371a9d1c79044dca9\n",
      "2020-01-09 08:58:27 INFO: Linkage for commit 2deeecdfbac22c216c71fcce2ee73ac25efb142c\n",
      "2020-01-09 08:58:27 INFO: Linkage for commit b8b078e590dda599b8a1e518fc7eb5da0caa9920\n"
     ]
    },
    {
     "name": "stdout",
     "output_type": "stream",
     "text": [
      "http://api.github.com/repos/thingsboard/thingsboard/issues/events?page=16&per_page=100\n",
      "http://api.github.com/repos/thingsboard/thingsboard/issues/events?page=17&per_page=100\n",
      "http://api.github.com/repos/thingsboard/thingsboard/issues/events?page=18&per_page=100\n",
      "http://api.github.com/repos/thingsboard/thingsboard/issues/events?page=19&per_page=100\n",
      "http://api.github.com/repos/thingsboard/thingsboard/issues/events?page=20&per_page=100\n",
      "http://api.github.com/repos/thingsboard/thingsboard/issues/events?page=21&per_page=100\n",
      "http://api.github.com/repos/thingsboard/thingsboard/issues/events?page=22&per_page=100\n",
      "http://api.github.com/repos/thingsboard/thingsboard/issues/events?page=23&per_page=100\n",
      "http://api.github.com/repos/thingsboard/thingsboard/issues/events?page=24&per_page=100\n",
      "http://api.github.com/repos/thingsboard/thingsboard/issues/events?page=25&per_page=100\n",
      "http://api.github.com/repos/thingsboard/thingsboard/issues/events?page=26&per_page=100\n",
      "http://api.github.com/repos/thingsboard/thingsboard/issues/events?page=27&per_page=100\n",
      "http://api.github.com/repos/thingsboard/thingsboard/issues/events?page=28&per_page=100\n",
      "http://api.github.com/repos/thingsboard/thingsboard/issues/events?page=29&per_page=100\n"
     ]
    },
    {
     "name": "stderr",
     "output_type": "stream",
     "text": [
      "2020-01-09 08:58:43 INFO: Linkage for commit 51620220d326d71368ebe8586d0df6c77dc934fc\n",
      "2020-01-09 08:58:44 INFO: Linkage for commit bdb3d3db25bdb56f595394d1cfa70e94ba9e7227\n",
      "2020-01-09 08:58:44 INFO: Linkage for commit 94bd7e0cc29150a57ef340dcc4236da2e87dbd28\n",
      "2020-01-09 08:58:44 INFO: Linkage for commit 2ce15d5f6f58af25e3bf345f896aac1f9a3e802b\n"
     ]
    },
    {
     "name": "stdout",
     "output_type": "stream",
     "text": [
      "http://api.github.com/repos/thingsboard/thingsboard/issues/events?page=30&per_page=100\n"
     ]
    },
    {
     "name": "stderr",
     "output_type": "stream",
     "text": [
      "2020-01-09 08:58:44 INFO: Linkage for commit 6d1404230cd1f950b531540f9196095ef350f0e9\n",
      "2020-01-09 08:58:45 INFO: Linkage for commit 84a5fcce4a5762151cfb4a8cb426fca4ec1e9331\n",
      "2020-01-09 08:58:45 INFO: Linkage for commit ce6eb3778d8c5bd3e8ac54895c7c8ac1863494b9\n",
      "2020-01-09 08:58:45 INFO: Linkage for commit 4268e109f08054b2280d99da28d13d11228a0c6b\n"
     ]
    },
    {
     "name": "stdout",
     "output_type": "stream",
     "text": [
      "http://api.github.com/repos/thingsboard/thingsboard/issues/events?page=31&per_page=100\n"
     ]
    },
    {
     "name": "stderr",
     "output_type": "stream",
     "text": [
      "2020-01-09 08:58:45 INFO: Linkage for commit 5e5790a9d22052a9bf5c2891a044f8b0dcd68896\n",
      "2020-01-09 08:58:45 INFO: Linkage for commit 66426ba1592ba2830be868588da1ec58c1466f38\n",
      "2020-01-09 08:58:46 INFO: Linkage for commit ea0e59f7d1254096fc50bf4116da7b70b4cd227c\n",
      "2020-01-09 08:58:46 INFO: Linkage for commit 4525174b0efd7fdcf328489b563c2a6eabec88da\n",
      "2020-01-09 08:58:46 INFO: Linkage for commit e0f753025d15143b023260cc26a230c1c0e6fe57\n"
     ]
    },
    {
     "name": "stdout",
     "output_type": "stream",
     "text": [
      "http://api.github.com/repos/thingsboard/thingsboard/issues/events?page=32&per_page=100\n"
     ]
    },
    {
     "name": "stderr",
     "output_type": "stream",
     "text": [
      "2020-01-09 08:58:47 INFO: Linkage for commit ded769a3a7d58d8874fbdf2a6867304bffbaa13f\n",
      "2020-01-09 08:58:47 INFO: Linkage for commit 4eb164f79823f71b7d58a5248b7d5c55b7784a96\n"
     ]
    },
    {
     "name": "stdout",
     "output_type": "stream",
     "text": [
      "http://api.github.com/repos/thingsboard/thingsboard/issues/events?page=33&per_page=100\n"
     ]
    },
    {
     "name": "stderr",
     "output_type": "stream",
     "text": [
      "2020-01-09 08:58:48 INFO: Linkage for commit 8161956d9fdd35959f2037e880f6696358b76134\n",
      "2020-01-09 08:58:48 INFO: Linkage for commit 14c5cf242cb6f456be019ad5781d7762dba79dd7\n",
      "2020-01-09 08:58:48 INFO: Linkage for commit f4a57256c143d45c70c3dd276536b27d6fcc1019\n",
      "2020-01-09 08:58:48 INFO: Linkage for commit 5e9309eef6914394fd9a3afb7885c785398d6149\n",
      "2020-01-09 08:58:48 INFO: Linkage for commit 73f51659f6e15a376630fa2219a197c0c2cb31ad\n",
      "2020-01-09 08:58:48 INFO: Linkage for commit f555f007e6212a8512031d357e3db6788a97a133\n"
     ]
    },
    {
     "name": "stdout",
     "output_type": "stream",
     "text": [
      "http://api.github.com/repos/thingsboard/thingsboard/issues/events?page=34&per_page=100\n"
     ]
    },
    {
     "name": "stderr",
     "output_type": "stream",
     "text": [
      "2020-01-09 08:58:49 INFO: Linkage for commit ade282fdc18344c6c8364c072eda88051add3806\n",
      "2020-01-09 08:58:49 INFO: Linkage for commit d426d0c0adadc2f2e6951207c8bcc0227c19db16\n"
     ]
    },
    {
     "name": "stdout",
     "output_type": "stream",
     "text": [
      "http://api.github.com/repos/thingsboard/thingsboard/issues/events?page=35&per_page=100\n"
     ]
    },
    {
     "name": "stderr",
     "output_type": "stream",
     "text": [
      "2020-01-09 08:58:50 INFO: Linkage for commit f5f186e47ad59a693be43a1c1c455db894b1c27c\n",
      "2020-01-09 08:58:50 INFO: Linkage for commit 5bd94e7e662ba2dff9028af489697c0c8002cca5\n",
      "2020-01-09 08:58:51 INFO: Linkage for commit 392e03dd146297debc77208b307b81481db5ff3f\n",
      "2020-01-09 08:58:51 INFO: Linkage for commit d570f08750cce6a5aef885ed4f2943294c8465a8\n",
      "2020-01-09 08:58:51 INFO: Linkage for commit 8a37560b98877e16e71bd59317e053150ebca687\n"
     ]
    },
    {
     "name": "stdout",
     "output_type": "stream",
     "text": [
      "http://api.github.com/repos/thingsboard/thingsboard/issues/events?page=36&per_page=100\n"
     ]
    },
    {
     "name": "stderr",
     "output_type": "stream",
     "text": [
      "2020-01-09 08:58:52 INFO: Linkage for commit 327eea7f2bb12d2d72949f3f60fd5c8dda5673d4\n",
      "2020-01-09 08:58:52 INFO: Linkage for commit 1133acf7ac308a41535bfbc148b5c3050ee18408\n",
      "2020-01-09 08:58:52 INFO: Linkage for commit 4702e178c79728b5243e2728157a2fd2ac73e6bb\n"
     ]
    },
    {
     "name": "stdout",
     "output_type": "stream",
     "text": [
      "http://api.github.com/repos/thingsboard/thingsboard/issues/events?page=37&per_page=100\n"
     ]
    },
    {
     "name": "stderr",
     "output_type": "stream",
     "text": [
      "2020-01-09 08:58:53 INFO: Linkage for commit dc4261b4d0e645326bd8d48f4ee008c7e06c3b67\n",
      "2020-01-09 08:58:53 INFO: Linkage for commit 093b58ff2027af5c3050a63cbb8c838552e7ba80\n",
      "2020-01-09 08:58:53 INFO: Linkage for commit 96c9dbd69888a7862a1ff938ae6ad897b88af9e8\n",
      "2020-01-09 08:58:53 INFO: Linkage for commit ff3f6d140cfbd86c26afeb1bd8a1407e7695a99e\n"
     ]
    },
    {
     "name": "stdout",
     "output_type": "stream",
     "text": [
      "http://api.github.com/repos/thingsboard/thingsboard/issues/events?page=38&per_page=100\n",
      "http://api.github.com/repos/thingsboard/thingsboard/issues/events?page=39&per_page=100\n",
      "http://api.github.com/repos/thingsboard/thingsboard/issues/events?page=40&per_page=100\n",
      "http://api.github.com/repos/thingsboard/thingsboard/issues/events?page=41&per_page=100\n",
      "http://api.github.com/repos/thingsboard/thingsboard/issues/events?page=42&per_page=100\n"
     ]
    },
    {
     "name": "stderr",
     "output_type": "stream",
     "text": [
      "2020-01-09 08:58:59 INFO: Linkage for commit 6f1692253007aabad9c1cf6529386032cd3b1610\n"
     ]
    },
    {
     "name": "stdout",
     "output_type": "stream",
     "text": [
      "http://api.github.com/repos/thingsboard/thingsboard/issues/events?page=43&per_page=100\n",
      "http://api.github.com/repos/thingsboard/thingsboard/issues/events?page=44&per_page=100\n",
      "http://api.github.com/repos/thingsboard/thingsboard/issues/events?page=45&per_page=100\n",
      "http://api.github.com/repos/thingsboard/thingsboard/issues/events?page=46&per_page=100\n",
      "http://api.github.com/repos/thingsboard/thingsboard/issues/events?page=47&per_page=100\n",
      "http://api.github.com/repos/thingsboard/thingsboard/issues/events?page=48&per_page=100\n",
      "http://api.github.com/repos/thingsboard/thingsboard/issues/events?page=49&per_page=100\n",
      "http://api.github.com/repos/thingsboard/thingsboard/issues/events?page=50&per_page=100\n",
      "http://api.github.com/repos/thingsboard/thingsboard/issues/events?page=51&per_page=100\n",
      "http://api.github.com/repos/thingsboard/thingsboard/issues/events?page=52&per_page=100\n",
      "http://api.github.com/repos/thingsboard/thingsboard/issues/events?page=53&per_page=100\n",
      "http://api.github.com/repos/thingsboard/thingsboard/issues/events?page=54&per_page=100\n",
      "http://api.github.com/repos/thingsboard/thingsboard/issues/events?page=55&per_page=100\n",
      "http://api.github.com/repos/thingsboard/thingsboard/issues/events?page=56&per_page=100\n",
      "http://api.github.com/repos/thingsboard/thingsboard/issues/events?page=57&per_page=100\n",
      "http://api.github.com/repos/thingsboard/thingsboard/issues/events?page=58&per_page=100\n",
      "http://api.github.com/repos/thingsboard/thingsboard/issues/events?page=59&per_page=100\n",
      "http://api.github.com/repos/thingsboard/thingsboard/issues/events?page=60&per_page=100\n",
      "http://api.github.com/repos/thingsboard/thingsboard/issues/comments?page=1&per_page=100\n",
      "http://api.github.com/repos/thingsboard/thingsboard/issues/comments?page=2&per_page=100\n",
      "http://api.github.com/repos/thingsboard/thingsboard/issues/comments?page=3&per_page=100\n",
      "http://api.github.com/repos/thingsboard/thingsboard/issues/comments?page=4&per_page=100\n",
      "http://api.github.com/repos/thingsboard/thingsboard/issues/comments?page=5&per_page=100\n",
      "http://api.github.com/repos/thingsboard/thingsboard/issues/comments?page=6&per_page=100\n",
      "http://api.github.com/repos/thingsboard/thingsboard/issues/comments?page=7&per_page=100\n",
      "http://api.github.com/repos/thingsboard/thingsboard/issues/comments?page=8&per_page=100\n",
      "http://api.github.com/repos/thingsboard/thingsboard/issues/comments?page=9&per_page=100\n",
      "http://api.github.com/repos/thingsboard/thingsboard/issues/comments?page=10&per_page=100\n",
      "http://api.github.com/repos/thingsboard/thingsboard/issues/comments?page=11&per_page=100\n",
      "http://api.github.com/repos/thingsboard/thingsboard/issues/comments?page=12&per_page=100\n",
      "http://api.github.com/repos/thingsboard/thingsboard/issues/comments?page=13&per_page=100\n",
      "http://api.github.com/repos/thingsboard/thingsboard/issues/comments?page=14&per_page=100\n",
      "http://api.github.com/repos/thingsboard/thingsboard/issues/comments?page=15&per_page=100\n",
      "http://api.github.com/repos/thingsboard/thingsboard/issues/comments?page=16&per_page=100\n",
      "http://api.github.com/repos/thingsboard/thingsboard/issues/comments?page=17&per_page=100\n",
      "http://api.github.com/repos/thingsboard/thingsboard/issues/comments?page=18&per_page=100\n",
      "http://api.github.com/repos/thingsboard/thingsboard/issues/comments?page=19&per_page=100\n",
      "http://api.github.com/repos/thingsboard/thingsboard/issues/comments?page=20&per_page=100\n",
      "http://api.github.com/repos/thingsboard/thingsboard/issues/comments?page=21&per_page=100\n",
      "http://api.github.com/repos/thingsboard/thingsboard/issues/comments?page=22&per_page=100\n",
      "http://api.github.com/repos/thingsboard/thingsboard/issues/comments?page=23&per_page=100\n",
      "http://api.github.com/repos/thingsboard/thingsboard/issues/comments?page=24&per_page=100\n",
      "http://api.github.com/repos/thingsboard/thingsboard/issues/comments?page=25&per_page=100\n",
      "http://api.github.com/repos/thingsboard/thingsboard/issues/comments?page=26&per_page=100\n",
      "http://api.github.com/repos/thingsboard/thingsboard/issues/comments?page=27&per_page=100\n",
      "http://api.github.com/repos/thingsboard/thingsboard/issues/comments?page=28&per_page=100\n",
      "http://api.github.com/repos/thingsboard/thingsboard/issues/comments?page=29&per_page=100\n",
      "http://api.github.com/repos/thingsboard/thingsboard/issues/comments?page=30&per_page=100\n",
      "http://api.github.com/repos/thingsboard/thingsboard/issues/comments?page=31&per_page=100\n",
      "http://api.github.com/repos/thingsboard/thingsboard/issues/comments?page=32&per_page=100\n"
     ]
    },
    {
     "name": "stderr",
     "output_type": "stream",
     "text": [
      "2020-01-09 09:00:07 INFO: Linkage for commit 9157adcaea4b7b8345a877939a0d413639dfa28d\n",
      "2020-01-09 09:00:08 INFO: Linkage for commit 28621de1b7417cca24d3d2c49b5aa8f0cd03630e\n",
      "2020-01-09 09:00:08 INFO: Linkage for commit dab067e71fbca5f04666ed0cc17f7691772c91f3\n",
      "2020-01-09 09:00:08 INFO: Linkage for commit e87f1326f552ff802ddd73ddd72ac46293e9c96a\n",
      "2020-01-09 09:00:08 INFO: Linkage for commit 2d00ad07452456c75fc27383b768f2fac5c9ccb3\n",
      "2020-01-09 09:00:08 INFO: Linkage for commit 9ce079590e56e53e69ab28ed3cc9a6ee31fb9b6d\n",
      "2020-01-09 09:00:08 INFO: Linkage for commit c66b06b8f71f240d064d76019090c4c4d078ac1c\n"
     ]
    },
    {
     "name": "stdout",
     "output_type": "stream",
     "text": [
      "http://api.github.com/repos/thingsboard/thingsboard/issues/comments?page=33&per_page=100\n"
     ]
    },
    {
     "name": "stderr",
     "output_type": "stream",
     "text": [
      "2020-01-09 09:00:09 INFO: Linkage for commit a3579c4004648aea9f1db41b14871880f8d0303e\n",
      "2020-01-09 09:00:09 INFO: Linkage for commit 9e3b45b4532b0583b5942a719268cb3670de507a\n",
      "2020-01-09 09:00:09 INFO: Linkage for commit 363dc47d0fbef29ffc64842e714ed4ba38de80ea\n",
      "2020-01-09 09:00:09 INFO: Linkage for commit 99ccb8315553f6547f90d9b0988209446106a327\n",
      "2020-01-09 09:00:09 INFO: Linkage for commit 3783ba67a4d613cca909b5a49c563008a94db8b3\n",
      "2020-01-09 09:00:10 INFO: Linkage for commit 12407281c7e30828d6baeadbe5586bda715373ad\n",
      "2020-01-09 09:00:10 INFO: Linkage for commit 86c2fe82b572c54e307f892a40b95a775f776d1c\n",
      "2020-01-09 09:00:10 INFO: Linkage for commit 05dabec2bb1a7514c7a072360069cde914985ffb\n",
      "2020-01-09 09:00:10 INFO: Linkage for commit b1bc922d1656496f48972336d12547a56b8a2874\n",
      "2020-01-09 09:00:10 INFO: Linkage for commit f87bc9b5b098420414147c78e516ba18df5f4278\n",
      "2020-01-09 09:00:10 INFO: Linkage for commit 5251782c97afedff832179a85a76869c132aab68\n",
      "2020-01-09 09:00:11 INFO: Linkage for commit e5cbdf97651270009fee777dc5308fbb007c245a\n"
     ]
    },
    {
     "name": "stdout",
     "output_type": "stream",
     "text": [
      "http://api.github.com/repos/thingsboard/thingsboard/issues/comments?page=34&per_page=100\n"
     ]
    },
    {
     "name": "stderr",
     "output_type": "stream",
     "text": [
      "2020-01-09 09:00:11 INFO: Linkage for commit 32ece471e94be41803528ad796c6891e6e6f4417\n",
      "2020-01-09 09:00:11 INFO: Linkage for commit db9918413e4b80cb17206d595281275dba2e0b45\n",
      "2020-01-09 09:00:11 INFO: Linkage for commit 09880a64b1aecb63b348b690f0cc2696508ddbaa\n",
      "2020-01-09 09:00:11 INFO: Linkage for commit 19f4e443dd8819907187c2d16596a0ae79a8d067\n",
      "2020-01-09 09:00:11 INFO: Linkage for commit c58b39eac2dd0b8224932db938f8c42e63439d16\n",
      "2020-01-09 09:00:12 INFO: Linkage for commit 924c380b66533437bee47e6974a40eb9ff2fe623\n",
      "2020-01-09 09:00:12 INFO: Linkage for commit 6057a5e990dc2ae564465c532a38abba51f61bd7\n",
      "2020-01-09 09:00:12 INFO: Linkage for commit 52edc152556560513cd8c515ae4fee6b83dc3d92\n",
      "2020-01-09 09:00:12 INFO: Linkage for commit 0494738b74388f96a63cfdf660f64c2a0d4f9ae9\n",
      "2020-01-09 09:00:13 INFO: Linkage for commit c8edbffe43878f624536653eb92b3adefacf22d3\n"
     ]
    },
    {
     "name": "stdout",
     "output_type": "stream",
     "text": [
      "http://api.github.com/repos/thingsboard/thingsboard/issues/comments?page=35&per_page=100\n"
     ]
    },
    {
     "name": "stderr",
     "output_type": "stream",
     "text": [
      "2020-01-09 09:00:13 INFO: Linkage for commit 0aba2fcfe6dac3f0c5c6ffa386db5d8fddc3a5f3\n",
      "2020-01-09 09:00:13 INFO: Linkage for commit 3e25997ba2e169f6eedbced4d436ab0117327bac\n",
      "2020-01-09 09:00:13 INFO: Linkage for commit 0637ed11644c9e277cd5541758b38a10f5373a87\n",
      "2020-01-09 09:00:13 INFO: Linkage for commit e63bb8875d9622c52cbd81f3946f37f53e8fc25a\n",
      "2020-01-09 09:00:13 INFO: Linkage for commit bdca585d9091322a9c8bc2248025777ce3a72a87\n",
      "2020-01-09 09:00:14 INFO: Linkage for commit e49c713a20f54781a787b07bf3a5b3118c8c3a2f\n",
      "2020-01-09 09:00:14 INFO: Linkage for commit ca7ffd99c0480185b19dedb98c2781f85cd05cbc\n",
      "2020-01-09 09:00:15 INFO: Linkage for commit a84d2ca4ecd0a9aa4fa44019ba062d6ce1f7378f\n",
      "2020-01-09 09:00:15 INFO: Linkage for commit dfb24376736ba263e01253cd585c6722cb40feb2\n"
     ]
    },
    {
     "name": "stdout",
     "output_type": "stream",
     "text": [
      "http://api.github.com/repos/thingsboard/thingsboard/issues/comments?page=36&per_page=100\n"
     ]
    },
    {
     "name": "stderr",
     "output_type": "stream",
     "text": [
      "2020-01-09 09:00:15 INFO: Linkage for commit f59b678ef71253199116ee8b7dfba449c49ea41a\n",
      "2020-01-09 09:00:16 INFO: Linkage for commit 74aa9ca36974a0deb39a783f51e685da3aa7a3c5\n",
      "2020-01-09 09:00:16 INFO: Linkage for commit 6447a0badaa588ea024501d15932cf451d811f54\n",
      "2020-01-09 09:00:16 INFO: Linkage for commit f6da85e9ae08fafa7a5f23a4e888997689556944\n",
      "2020-01-09 09:00:16 INFO: Linkage for commit d727a8a3b4770a47557b087ac87dd824db202240\n"
     ]
    },
    {
     "name": "stdout",
     "output_type": "stream",
     "text": [
      "http://api.github.com/repos/thingsboard/thingsboard/issues/comments?page=37&per_page=100\n",
      "http://api.github.com/repos/thingsboard/thingsboard/issues/comments?page=38&per_page=100\n"
     ]
    },
    {
     "name": "stderr",
     "output_type": "stream",
     "text": [
      "2020-01-09 09:00:20 INFO: Linkage for commit 9cae286c9a2495dea160ed10fb3ab9bf2d3c6480\n",
      "2020-01-09 09:00:20 INFO: Linkage for commit ead30d700bd84ceffbbb5764ec5f39bf78681265\n",
      "2020-01-09 09:00:20 INFO: Linkage for commit 19e32dd645a3e21858095755603439620c6cec78\n",
      "2020-01-09 09:00:20 INFO: Linkage for commit 12951115f922312c2c49e8399657a9748345ae6b\n",
      "2020-01-09 09:00:21 INFO: Linkage for commit 3b4b95633de03979db384c918c27eaeac103b1b7\n"
     ]
    },
    {
     "name": "stdout",
     "output_type": "stream",
     "text": [
      "http://api.github.com/repos/thingsboard/thingsboard/issues/comments?page=39&per_page=100\n"
     ]
    },
    {
     "name": "stderr",
     "output_type": "stream",
     "text": [
      "2020-01-09 09:00:21 INFO: Linkage for commit 92fdbbf89c6e411a6fa14dc4badcd63a35f4e116\n",
      "2020-01-09 09:00:22 INFO: Linkage for commit e639dd1fe8f2556ef9e0ec6aa786a18f1ed77073\n"
     ]
    },
    {
     "name": "stdout",
     "output_type": "stream",
     "text": [
      "http://api.github.com/repos/thingsboard/thingsboard/issues/comments?page=40&per_page=100\n"
     ]
    },
    {
     "name": "stderr",
     "output_type": "stream",
     "text": [
      "2020-01-09 09:00:23 INFO: Linkage for commit b08d3a5a2545097e1e168833375ab4cc9d0633b1\n",
      "2020-01-09 09:00:23 INFO: Linkage for commit 7645e6f26ecc8e341194fc155c05026970abdcaa\n",
      "2020-01-09 09:00:23 INFO: Linkage for commit 7f1651c807c26cec5bc8cef6c8f01d9d663e6ec2\n",
      "2020-01-09 09:00:23 INFO: Linkage for commit d6a3fff891076dace70b7c8757615d4af9b71384\n",
      "2020-01-09 09:00:24 INFO: Linkage for commit 9151bfde83bee726622a7fc5609a09f04ee7affd\n",
      "2020-01-09 09:00:24 INFO: Linkage for commit 8fdc5a8a8b69949e1396b6e5e03d10543d29ba30\n",
      "2020-01-09 09:00:24 INFO: Linkage for commit 369d090ce76da7c3df1e6778985b3aff0e2880a4\n",
      "2020-01-09 09:00:24 INFO: Linkage for commit c9a3da7107fb283edaff357286afe7af0441e87b\n",
      "2020-01-09 09:00:24 INFO: Linkage for commit 1d117297ff32c5ddde9ede60647d2f7db20c91f4\n",
      "2020-01-09 09:00:25 INFO: Linkage for commit 72a202dd5bd0004f7bb8d440ce2feea02229b2ce\n",
      "2020-01-09 09:00:25 INFO: Linkage for commit 2f89b6d0f3919504bc906ba32f6ce6e6b3a9839d\n",
      "2020-01-09 09:00:25 INFO: Linkage for commit 09c690634b1f03c818632fb6867ffda08e4688c8\n"
     ]
    },
    {
     "name": "stdout",
     "output_type": "stream",
     "text": [
      "http://api.github.com/repos/thingsboard/thingsboard/issues/comments?page=41&per_page=100\n"
     ]
    },
    {
     "name": "stderr",
     "output_type": "stream",
     "text": [
      "2020-01-09 09:00:25 INFO: Linkage for commit 872a2065aba77413ffde3c61b9c530f262e10385\n",
      "2020-01-09 09:00:26 INFO: Linkage for commit 64a8e5c152c6f0629d883608b87686edb9eace6a\n"
     ]
    },
    {
     "name": "stdout",
     "output_type": "stream",
     "text": [
      "http://api.github.com/repos/thingsboard/thingsboard/issues/comments?page=42&per_page=100\n",
      "http://api.github.com/repos/thingsboard/thingsboard/issues/comments?page=43&per_page=100\n",
      "http://api.github.com/repos/thingsboard/thingsboard/issues/comments?page=44&per_page=100\n",
      "http://api.github.com/repos/thingsboard/thingsboard/issues/comments?page=45&per_page=100\n",
      "http://api.github.com/repos/thingsboard/thingsboard/issues/comments?page=46&per_page=100\n",
      "http://api.github.com/repos/thingsboard/thingsboard/issues/comments?page=47&per_page=100\n",
      "http://api.github.com/repos/thingsboard/thingsboard/issues/comments?page=48&per_page=100\n",
      "http://api.github.com/repos/thingsboard/thingsboard/issues/comments?page=49&per_page=100\n"
     ]
    },
    {
     "name": "stderr",
     "output_type": "stream",
     "text": [
      "2020-01-09 09:01:07 INFO: Linkage for commit c5b03cb5b38d8a5ff935c797ff515cea1d11214b\n",
      "2020-01-09 09:01:07 INFO: Linkage for commit c1884df254ba58552111dc2787f3ce2fac7bf8bb\n",
      "2020-01-09 09:01:08 INFO: Linkage for commit 68a943e2677053358bea9566e4e42a26d4eed217\n",
      "2020-01-09 09:01:08 INFO: Linkage for commit 05f92cbe656478626a83db0cbdb9da2698f91ac1\n",
      "2020-01-09 09:01:08 INFO: Linkage for commit 2f6995fcedb0f795429a3d4b0ad1c7fb687314c7\n",
      "2020-01-09 09:01:08 INFO: Linkage for commit 4bbcffdf637f7fca0aa2caa03c514f31a3872561\n",
      "2020-01-09 09:01:09 INFO: Linkage for commit 6d8cb480e9fed0527613ae3bf41bd933ab2adbb1\n",
      "2020-01-09 09:01:12 INFO: Linkage for commit fb934f868f979c601903faacafccef57bf81c537\n",
      "2020-01-09 09:01:13 INFO: Linkage for commit 5b03e45fcbec4d2f33dda2609b6b1374483972a0\n",
      "2020-01-09 09:01:13 INFO: Linkage for commit 1c09299b7a695d91f010d3d918cbdf643989284e\n",
      "2020-01-09 09:01:13 INFO: Linkage for commit 8bc49896eda3f2878269d3da7974c0ba8e075f5a\n",
      "2020-01-09 09:01:15 INFO: Linkage for commit 69aac973f6292bf689a8c2f4dcc05d899efa838b\n",
      "2020-01-09 09:01:45 INFO: Linkage for commit d375f90a00968661bd253d064384e962de088988\n",
      "2020-01-09 09:01:45 INFO: Linkage for commit 647ccafc5c4878804306dcd2020ed9338bae81f1\n",
      "2020-01-09 09:01:45 INFO: Linkage for commit 36ad0f844c104287b2cfc38f37e594cf723f5a47\n",
      "2020-01-09 09:01:45 INFO: Linkage for commit e8496ffe16eef9bd40576ae011bdce8c7cac71c4\n",
      "2020-01-09 09:01:46 INFO: Linkage for commit eba98b80e65fd734cc29b5333af431bd56d350d6\n",
      "2020-01-09 09:01:47 INFO: Linkage for commit a606bcfa6611db200056e4b857638be2c476c72f\n",
      "2020-01-09 09:01:47 INFO: Linkage for commit 6548bf5d484dc319111398f47ad8c890711a3dd4\n",
      "2020-01-09 09:01:49 INFO: Linkage for commit 93272bed6f65deb9a27950677e21352167c46e1d\n",
      "2020-01-09 09:01:50 INFO: Linkage for commit 61baafe6fb7909360a33ee14cee0a753dd4e163a\n",
      "2020-01-09 09:01:51 INFO: Linkage for commit 9873aaff5c7a20d54e807625fd9443c945d38c88\n",
      "2020-01-09 09:01:51 INFO: Linkage for commit d3d456ae83fa9559306e07aaf8093dbea3e6d713\n",
      "2020-01-09 09:01:51 INFO: Linkage for commit 829c9a28cf0c4696266621a919ddfe9e1763b505\n",
      "2020-01-09 09:01:53 INFO: Linkage for commit cbceca66f8d621b9bf4d59aaf8bff0fa8529e067\n",
      "2020-01-09 09:01:54 INFO: Linkage for commit 30ba90f581bf8f2f04d3762d99a5275058f16fae\n",
      "2020-01-09 09:01:54 INFO: Linkage for commit ad65b5b7f6183ba847aa0dddf35913363ad27cd8\n",
      "2020-01-09 09:01:54 INFO: Linkage for commit b9a988f33a2927860f742a967195778d9b22cc23\n",
      "2020-01-09 09:01:55 INFO: Linkage for commit ada50b5d73f9271f3b532ec350bfe626e061be54\n",
      "2020-01-09 09:01:55 INFO: Linkage for commit 94d07fb7b1b5fd03a410dd913230a55d3671bf91\n",
      "2020-01-09 09:01:55 INFO: Linkage for commit 199f108905e86c84a6ce5a1f02f0c55f3a9d15a8\n",
      "2020-01-09 09:01:55 INFO: Linkage for commit e0b6c3238c0a22cdea8f66727c14bb540565afb3\n",
      "2020-01-09 09:01:57 INFO: Linkage for commit f24aa3c284cfea85de672df7220ea928478d9753\n",
      "2020-01-09 09:01:57 INFO: Linkage for commit 55127ae61c1ba7040ede0fafc447327449fde961\n",
      "2020-01-09 09:01:58 INFO: Linkage for commit d94ae25b4e3b2bec5263872937e726394f6693bb\n",
      "2020-01-09 09:01:58 INFO: Linkage for commit 0e6c6af2f8f07ce7a959631f5ffb749e1c2ccb28\n",
      "2020-01-09 09:01:59 INFO: Linkage for commit 90e4ff61259521aacf80103622a085b1ceacad25\n",
      "2020-01-09 09:01:59 INFO: Linkage for commit f83d3016d63cc973e2bfce8dd1547b9dd40a7cfb\n",
      "2020-01-09 09:01:59 INFO: Linkage for commit b647e5ffd504abf8fa81ce2fdfd932f2cbe23ee5\n",
      "2020-01-09 09:02:00 INFO: Linkage for commit e556b483726ff6bb76e7bfc3aa864b1cdcf64e3c\n",
      "2020-01-09 09:02:00 INFO: Linkage for commit 2d2b4b5c12efb9ec84430fce6d186e37168d9e36\n",
      "2020-01-09 09:02:00 INFO: Linkage for commit b42e511f22a912167d4293d347d9a00023773614\n",
      "2020-01-09 09:02:00 INFO: Linkage for commit 3a1145424c59aa5c01d194f9b417c7b68e5391bc\n",
      "2020-01-09 09:02:00 INFO: Linkage for commit 642c19c1556b2ccdcc625b7c2231747c491c8ead\n",
      "2020-01-09 09:02:00 INFO: Linkage for commit 50bfe1ffc8b70d8b9bfe27bf3bf1a42507574fd3\n",
      "2020-01-09 09:02:00 INFO: Linkage for commit a5fbfcf951989f20758dc8af7c74df9e293db655\n",
      "2020-01-09 09:02:01 INFO: Linkage for commit 3fa9437e680d0ebaecde4b1028c0b7f0d8310863\n",
      "2020-01-09 09:02:01 INFO: Linkage for commit 309598c2ac997044d7139184a2528db2b1d595c7\n",
      "2020-01-09 09:02:02 INFO: Linkage for commit 7f6ad9a6a635431a7175fb9fea5601dc1dbc670c\n",
      "2020-01-09 09:02:02 INFO: Linkage for commit 8ad7558b3e6a15642bb4639dcd3e0043ec4bd4d9\n",
      "2020-01-09 09:02:03 INFO: Linkage for commit 75c0c5b3d05413d667f0a59734121cf27fbbe685\n",
      "2020-01-09 09:02:03 INFO: Linkage for commit b0acf23c6de92cce6928a74544e335c4874c551e\n",
      "2020-01-09 09:02:03 INFO: Linkage for commit ce9967488b72e28c0d79d252e57422624b971a16\n",
      "2020-01-09 09:02:05 INFO: Linkage for commit 712e1ae9b78764c581d8164f009b862709fb2451\n",
      "2020-01-09 09:02:06 INFO: Linkage for commit dc254b7cc190e8c3876e9006a96346893b7df9fb\n",
      "2020-01-09 09:02:06 INFO: Linkage for commit 31a940aeb67a3b03c8dbcbc9b39872409d3a5d4d\n",
      "2020-01-09 09:02:06 INFO: Linkage for commit b922e070aecb98b54f5f9364b516cf1276596bf5\n",
      "2020-01-09 09:02:06 INFO: Linkage for commit 716762606e5968a587d29eea05cd7a7fa33f9578\n",
      "2020-01-09 09:02:06 INFO: Linkage for commit 42a451fcf3fa3ceba5845dd7c8352cfde56296e5\n",
      "2020-01-09 09:02:07 INFO: Linkage for commit 1f58c1b0d6e996cd9a37a5e521e575a5a3edaf41\n",
      "2020-01-09 09:02:07 INFO: Linkage for commit 489a1a6b6281deb1160840268e0fae0d0db0f2fc\n",
      "2020-01-09 09:02:07 INFO: Linkage for commit f41fabf44300c79994f5f18643076f2686c5ceed\n",
      "2020-01-09 09:02:07 INFO: Linkage for commit 9aacfe53be14993611f248c892bbd303287ecfc9\n",
      "2020-01-09 09:02:07 INFO: Linkage for commit e9d7561fd87717e01edcf35fdbe5eaeabaad649f\n",
      "2020-01-09 09:02:07 INFO: Linkage for commit db6e98412109b1bf85adef0be40e9d16cd45605a\n",
      "2020-01-09 09:02:08 INFO: Linkage for commit d8ac388395254edbdbbc9e7c1eb14261cc46507d\n",
      "2020-01-09 09:02:08 INFO: Linkage for commit 0b13fa2f0e74e5de26afe9fb0fc1874660fd4342\n",
      "2020-01-09 09:02:08 INFO: Linkage for commit 10fead768e369a076b5c21cd1fe6ef6755e82eae\n",
      "2020-01-09 09:02:08 INFO: Linkage for commit 2b212d777c67d1eb7b6a30011ae267cf29c47554\n",
      "2020-01-09 09:02:09 INFO: Linkage for commit 45cf12c4d9a40c34807f200a0a98a9f30189fd3e\n",
      "2020-01-09 09:02:09 INFO: Linkage for commit 16fa955a4c737a8c57b855457b577c0f790966ab\n",
      "2020-01-09 09:02:09 INFO: Linkage for commit 0ef899d4692fe1a7cc551690abb2db8b74f84f0b\n",
      "2020-01-09 09:02:09 INFO: Linkage for commit 291634c10fb62fe00843fbfeaff0c6e216bf7ad8\n",
      "2020-01-09 09:02:10 INFO: Linkage for commit 3524c4010c57c6d6d147b890a4d949fa56d7a091\n",
      "2020-01-09 09:02:10 INFO: Linkage for commit 5bf9528ee8878f80dbe5dadf6787a9086208779c\n",
      "2020-01-09 09:02:10 INFO: Linkage for commit 06a0941dbea59cb975f6f62215e34fd38eb9be07\n",
      "2020-01-09 09:02:11 INFO: Linkage for commit 5139299fd1eb64718528833f45b53f4f91aaebce\n",
      "2020-01-09 09:02:11 INFO: Linkage for commit 33fc8f0ba5167130cfc7bb7752142e2bc70ba2c0\n",
      "2020-01-09 09:02:11 INFO: Linkage for commit c8b5b2f132b7cb83e15888b42b3ab2b55b8cdcb9\n",
      "2020-01-09 09:02:11 INFO: Linkage for commit 5c31884c68e411db306853bbb561ddfe3610f11b\n",
      "2020-01-09 09:02:11 INFO: Linkage for commit 770253a32ce950225d8da9836814cc71eb2a3de6\n",
      "2020-01-09 09:02:12 INFO: Linkage for commit 086537770528018ede18f02ae83c60c12385979c\n",
      "2020-01-09 09:02:12 INFO: Linkage for commit 8c91b7fb765c24f9763b6b31f27697d4a2b0f5ff\n",
      "2020-01-09 09:02:12 INFO: Linkage for commit 01e06fcd344ef23ecb56c9b57e77170cebcb2b14\n",
      "2020-01-09 09:02:12 INFO: Linkage for commit 09e90b30898575853c020bd4bc55b94f9695a51c\n",
      "2020-01-09 09:02:14 INFO: Linkage for commit 5dc541eabf3a19522cbb0a522468731d1650cd49\n",
      "2020-01-09 09:02:14 INFO: Linkage for commit 813f7e1c64eef914fdc64d1469eabb959577771c\n",
      "2020-01-09 09:02:15 INFO: Linkage for commit dda10775a34e45489d487c9e2d09d0b123d0ccf0\n",
      "2020-01-09 09:02:15 INFO: Linkage for commit 0b379d6b6aacd6fcaa4bb08e6347b9b84561825d\n",
      "2020-01-09 09:02:15 INFO: Linkage for commit 36ce6b8b01f0868dba5af8c57342fc3b529a46ee\n",
      "2020-01-09 09:02:16 INFO: Linkage for commit 9a77b2b1997ce09a36396db94a7f2120be362fd9\n",
      "2020-01-09 09:02:16 INFO: Linkage for commit 8f72adfb1d08c03558d8e2a56b2e88fa3fab1e9c\n",
      "2020-01-09 09:02:16 INFO: Linkage for commit 7bfccc0f8b09e5d2063f88c9b92f16b84cc2577c\n",
      "2020-01-09 09:02:16 INFO: Linkage for commit 72f0d90c90dca06b8f45bcc69595ff1d0349a2bd\n",
      "2020-01-09 09:02:17 INFO: Linkage for commit 77de5522af9eaab7a6e3a60e0d504f3a8b04aac5\n",
      "2020-01-09 09:02:17 INFO: Linkage for commit 1e6bd5513089a2e3c3b3aaf1de5c2d282a512ffe\n"
     ]
    },
    {
     "name": "stderr",
     "output_type": "stream",
     "text": [
      "2020-01-09 09:02:17 INFO: Linkage for commit 4182a70d5fcf8f5530a3de39a303218fa2c3d855\n",
      "2020-01-09 09:02:18 INFO: Linkage for commit 531a16cd1223ef903a98261ddc8cd912f7dbb20b\n",
      "2020-01-09 09:02:18 INFO: Linkage for commit b40b8c8e9f720a92fe00ff55f0d2341710726463\n",
      "2020-01-09 09:02:22 INFO: Linkage for commit 3727519e511597dc7ec2d7db828976f1bae20eda\n",
      "2020-01-09 09:02:22 INFO: Linkage for commit 2adb39ba6c11733ffd763e59e04ed28e6fd434f3\n",
      "2020-01-09 09:02:23 INFO: Linkage for commit 014ed4f97939583246e3f0032408276bdf142525\n",
      "2020-01-09 09:02:23 INFO: Linkage for commit 584bb763ca30adab744d45acd2c5ac876c99dcc0\n",
      "2020-01-09 09:02:24 INFO: Linkage for commit 6c618a7db35ecc1a757f09869fcb16465f7de465\n",
      "2020-01-09 09:02:24 INFO: Linkage for commit 2269656b095340b4d2892bfc4fc31cf483121663\n",
      "2020-01-09 09:02:27 INFO: Linkage for commit 7bcb64958dd325e3ac401f57c4ebffb1418cc379\n",
      "2020-01-09 09:02:28 INFO: Linkage for commit 601efbc9317a0f65df0413bc800ad25870e3ebc3\n",
      "2020-01-09 09:02:28 INFO: Linkage for commit 7ba82aef3be961cfc3c6f0df0a9b9bb25faf32dd\n",
      "2020-01-09 09:02:28 INFO: Linkage for commit 87eb21d68ff41ea15a27a9b28714e79173bb71d8\n",
      "2020-01-09 09:02:29 INFO: Linkage for commit 029775e5576a91aaf6574ba31ccf9250fb92c230\n",
      "2020-01-09 09:02:30 INFO: Linkage for commit 9ef768f5e6eb854bae5dfaf932c6c108abe7b4cb\n",
      "2020-01-09 09:02:30 INFO: Linkage for commit 48bae4b2b421e4fd0ffd5a1a98fb572d415bcdc6\n",
      "2020-01-09 09:02:30 INFO: Linkage for commit 0b5f61338ee7395727740ee460b50196b2646c0c\n",
      "2020-01-09 09:02:30 INFO: Linkage for commit 80f0d1eb8a5f018e75ed9db6a58ed3f3728545b6\n",
      "2020-01-09 09:02:30 INFO: Linkage for commit 02895bf31ddc9a389772f3f6b5ebfe5ea2815454\n",
      "2020-01-09 09:02:31 INFO: Linkage for commit ac1de4d12e32c39bc6915312091d595bf00386c6\n",
      "2020-01-09 09:02:31 INFO: Linkage for commit ca62616cccc77feccd69eb7c3526437b112dd11d\n",
      "2020-01-09 09:02:31 INFO: Linkage for commit 78b40b097a8fc1ab93eef3007424b3e1e3ca4efa\n",
      "2020-01-09 09:02:31 INFO: Linkage for commit 321d4f1cb2680a2335aa24b0b2b4353e998ecbf8\n",
      "2020-01-09 09:02:32 INFO: Linkage for commit b1f9ffb3b8ee1307ace49fa2919922f5c47a7b1a\n",
      "2020-01-09 09:02:32 INFO: Linkage for commit aa795578415a62b0ab129e57df0bdd09ace8e430\n",
      "2020-01-09 09:02:32 INFO: Linkage for commit 286b296f44ed2018b700b89fa325daaed5e780c0\n",
      "2020-01-09 09:02:32 INFO: Linkage for commit e54eb2a606c68db932b4d3b1fb2d3e3ee03f85ef\n",
      "2020-01-09 09:02:32 INFO: Linkage for commit f0d7cd6348d48a60ca41da7c61bcf150f9ddc13f\n",
      "2020-01-09 09:02:32 INFO: Linkage for commit 99dde0cf69b7b92555e52ffa0caadbd3374e006d\n",
      "2020-01-09 09:02:33 INFO: Linkage for commit befb89a63b8ba29663dfad8c1b8a8d8fc4ca4819\n",
      "2020-01-09 09:02:33 INFO: Linkage for commit 0cfb73127b3dfd5c0311aed803858a1d86e0053e\n",
      "2020-01-09 09:02:33 INFO: Linkage for commit c34fb5d963d4680df69eb9733665575b3dd59532\n",
      "2020-01-09 09:02:33 INFO: Linkage for commit b8c8f57a82d3de7685fc5c889c0943b2e65bf280\n",
      "2020-01-09 09:02:33 INFO: Linkage for commit afa3d5c3757dd001a812a493c2aaaa85d5762956\n",
      "2020-01-09 09:02:34 INFO: Linkage for commit 89a701226df0c65355108f187d29ac3b5051e2f8\n",
      "2020-01-09 09:02:34 INFO: Linkage for commit ee84dbdd840a6adf93aa978bd56c920541f8f0a8\n",
      "2020-01-09 09:02:34 INFO: Linkage for commit dbc7fe7abe543d1a1433300c781238dc7e5bc137\n",
      "2020-01-09 09:02:35 INFO: Linkage for commit c6800dbd032b3666ae6eb2ab5c061dc6e5a2e39c\n",
      "2020-01-09 09:02:40 INFO: Linkage for commit 14be925c73420dd1a249e2a6a2bdfc434642d242\n",
      "2020-01-09 09:02:40 INFO: Linkage for commit acb94868355ac11b1dc6fd06e21b21561052e9b2\n",
      "2020-01-09 09:02:41 INFO: Linkage for commit 8b1a9351f34717de9fc8f799fdee691a39ce9081\n",
      "2020-01-09 09:02:42 INFO: Linkage for commit 7a764778e013519edf8a4e90d23a4b1a4def4e23\n",
      "2020-01-09 09:02:43 INFO: Linkage for commit b2aed2f30736b36b6a5bfc61951c0f851871b8ab\n",
      "2020-01-09 09:02:44 INFO: Linkage for commit 2638d1eaf7122927e04ec0bfd23e75a7c2563aa6\n"
     ]
    },
    {
     "name": "stdout",
     "output_type": "stream",
     "text": [
      "API done\n"
     ]
    },
    {
     "name": "stderr",
     "output_type": "stream",
     "text": [
      "2020-01-09 09:02:58 INFO: Linkage for commit a64d212335959d45fb4242cc4dac184dd941ea9a\n",
      "2020-01-09 09:02:58 INFO: Linkage for commit 78436f9baa4af41b114b8ff7e8a06bb1595cd141\n",
      "2020-01-09 09:03:00 INFO: Linkage for commit 39e6b904c17577e8e143ce5d8e2cf9e74b849c0c\n",
      "2020-01-09 09:03:00 INFO: Linkage for commit a5e86c2e5edefd193094c164bdbe1b107d9eeb69\n",
      "2020-01-09 09:03:00 INFO: Linkage for commit d46cf8f485fa02da8007afd0a03316889c3b6853\n",
      "2020-01-09 09:03:01 INFO: Linkage for commit 95cc86d242daf9391f4e4f6d18468a70405cff9f\n",
      "2020-01-09 09:03:01 INFO: Linkage for commit a805c3c69628c6b478a030468a1cd5e2ae90b05b\n",
      "2020-01-09 09:03:01 INFO: Linkage for commit be937278ba07bb7f136383c273b3db5a48d3f738\n",
      "2020-01-09 09:03:01 INFO: Linkage for commit 0723988061a74ddf06db72db7903bfaecfa51ab4\n",
      "2020-01-09 09:03:01 INFO: Linkage for commit aa4787e9891c1ab332568017579eb53fe0fbeff9\n",
      "2020-01-09 09:03:04 INFO: Linkage for commit 093eafb462cab211107761c6fa54f1aba54835cb\n",
      "2020-01-09 09:03:05 INFO: Linkage for commit fd251f0d9a82d38d228902a9c652b3b7679d2c9a\n",
      "2020-01-09 09:03:06 INFO: Linkage for commit 4255bb56a38d0edf1c671ce07321a6bf431fd7f2\n",
      "2020-01-09 09:03:10 INFO: Linkage for commit f6fccebd52d4dae21f0a936a14f96b044ee49cb5\n",
      "2020-01-09 09:03:10 INFO: Linkage for commit 19c16aa107f72f9545cf0a61eb2701089145a5d1\n",
      "2020-01-09 09:03:11 INFO: Linkage for commit 5f40dcacdbd8c5524db2031a65d775bd3bf67de0\n",
      "2020-01-09 09:03:11 INFO: Linkage for commit 48e2b1a2173174bf00b8c40c2d5a9fd9fe1141c2\n",
      "2020-01-09 09:03:11 INFO: Linkage for commit 4d6ee559fdc55bfd8ea3bf3bbd51b984b8b30f95\n",
      "2020-01-09 09:03:12 INFO: Linkage for commit f0186c9084c21c1a9081d1b6c6b643bad437d755\n",
      "2020-01-09 09:03:12 INFO: Linkage for commit cdb2903f95e542821a52b6318cca377f5eefe5c9\n",
      "2020-01-09 09:03:15 INFO: Linkage for commit 7bb482bb65704089c8a404b12acd6cd00c9154ba\n",
      "2020-01-09 09:03:15 INFO: Linkage for commit c84bcd51d843472c3e96ad3da226d12df9915fda\n",
      "2020-01-09 09:03:15 INFO: Linkage for commit 1e74d84c99f8de4eeb9417dc24eb09820ae304a1\n",
      "2020-01-09 09:03:16 INFO: Linkage for commit a231ee637557d1b3ee8732a6bdbdf538810b6976\n",
      "2020-01-09 09:03:16 INFO: Linkage for commit cb0ea5ef31df6d7bb7b5bbb13b874647ad8920d8\n",
      "2020-01-09 09:03:16 INFO: Linkage for commit 7c381995fb1cf6c1d922deb657a43941098d5c52\n",
      "2020-01-09 09:03:17 INFO: Linkage for commit 0eff2acd5c3dbf5c407bebd89b2f6eeaf4170938\n",
      "2020-01-09 09:03:18 INFO: Linkage for commit b40a135a7ee7319cfcbbf01a5874b0b19fc50581\n",
      "2020-01-09 09:03:18 INFO: Linkage for commit eb47eb3c4f41feb42bc95c186404c8e2dae80cbe\n",
      "2020-01-09 09:03:18 INFO: Linkage for commit f201c3727fb199792e2375b59cb7681b7bc841f7\n",
      "2020-01-09 09:03:19 INFO: Linkage for commit 834a9c9c25dcafa50e738c8c4075612eab681ee4\n",
      "2020-01-09 09:03:19 INFO: Linkage for commit 0fa92850295a3ae7c61a4f93122b072c413a0cc2\n",
      "2020-01-09 09:03:21 INFO: Linkage for commit 693b58478bbbda3e1d61584691a0f589d4cf497e\n",
      "2020-01-09 09:03:21 INFO: Linkage for commit 5f2bfd93de79d8b98de09dda7c1712fb42706a20\n",
      "2020-01-09 09:03:22 INFO: Linkage for commit 9e3a0584e6f073094d184c451f749637d6451865\n",
      "2020-01-09 09:03:23 INFO: Linkage for commit ae42bb4feef308f7f42cd5809a70cc6c3e87b01a\n",
      "2020-01-09 09:03:23 INFO: Linkage for commit a7d966c7888b707c24f0d48859c8047bd895f71d\n",
      "2020-01-09 09:03:27 INFO: Linkage for commit 138c049c892e0c046bcd592061955cc29d5eddf3\n",
      "2020-01-09 09:03:29 INFO: Linkage for commit 928f8f84b642be50c8e829445bb31dab5bd224c2\n",
      "2020-01-09 09:03:31 INFO: Linkage for commit 8872ec19b641b827cc4ca413825ddce911b33b14\n",
      "2020-01-09 09:03:32 INFO: Linkage for commit 90643f397c1a83ea9d6b058af80592bc9c6bbc48\n",
      "2020-01-09 09:03:32 INFO: Linkage for commit dfe2586e616ebbaa1217da0074694d972a9063dc\n",
      "2020-01-09 09:03:33 INFO: Linkage for commit 0686d3a21b38f459efe0094b965cfff2b95c4345\n",
      "2020-01-09 09:03:34 INFO: Linkage for commit 3ec0a7036334669ee6e98a06f629982dac3c3204\n",
      "2020-01-09 09:03:34 INFO: Linkage for commit f5bd9a2133e4c442a054e620e774c141ff55cac3\n",
      "2020-01-09 09:03:34 INFO: Linkage for commit 920ebc792a1df4f89d7f78215a43994e5128f405\n",
      "2020-01-09 09:03:35 INFO: Linkage for commit 2f86547b195e5068f389f307b7489506bb1467e9\n",
      "2020-01-09 09:03:35 INFO: Linkage for commit 86f5b3fd08b39d50af9949f8cef32979a9eb8db7\n",
      "2020-01-09 09:03:36 INFO: Linkage for commit b0e7bc0e31263e16f54696ec1b8e4d02b4b22273\n",
      "2020-01-09 09:03:36 INFO: Linkage for commit 354f8910bf4d79711f2a441ad6eb5470f432e2e8\n",
      "2020-01-09 09:03:36 INFO: Linkage for commit 4a1916668a83186e185af8e25794f2ffd65fb38e\n",
      "2020-01-09 09:03:37 INFO: Linkage for commit 44c79597f2d37f6c685db71aa23a557fbede49bc\n",
      "2020-01-09 09:03:37 INFO: Linkage for commit 5aced98ce38ea479f23e7da9b39a09dfeff1c92c\n",
      "2020-01-09 09:03:37 INFO: Linkage for commit b3b1657b0861687631e9a4016dc68cee7c4a9e73\n",
      "2020-01-09 09:03:37 INFO: Linkage for commit 94827253e4db6d80cc1d6694b0c441efb7ae530f\n",
      "2020-01-09 09:03:38 INFO: Linkage for commit b966abb3e65ba2441e6fffb3a8e369f544361e30\n",
      "2020-01-09 09:03:39 INFO: Linkage for commit 6a132082c4af0e3e5c21dadcd4be89699c635771\n",
      "2020-01-09 09:03:39 INFO: Linkage for commit ef8604a21e100ac50a907ed1a48f66484b1babf6\n",
      "2020-01-09 09:03:40 INFO: Linkage for commit 06f5dfd1da92297e45bd582e6c089edacb1134c2\n",
      "2020-01-09 09:03:41 INFO: Linkage for commit 90c3a2b533797af7e523acb54c3c2acc59c05c9c\n",
      "2020-01-09 09:03:44 INFO: Linkage for commit 7f639655ee594085d67c2bfe9bbd879d75b3607d\n",
      "2020-01-09 09:03:44 INFO: Linkage for commit 88f11d4322d683c9e530fe0388e253e63fca6bbc\n",
      "2020-01-09 09:03:45 INFO: Linkage for commit 0fd84dc311a9b4d470ab4549b01c3e1f00ecb5fa\n",
      "2020-01-09 09:03:45 INFO: Linkage for commit 83a499e00471bb2b3fbdd0076b1c0a4b960c38e3\n",
      "2020-01-09 09:03:45 INFO: Linkage for commit 5953c04c64af9b399e13838f94fab7233b03010b\n",
      "2020-01-09 09:03:45 INFO: Linkage for commit cc1a83a5128d550fc54f3584ddc80584c2276359\n",
      "2020-01-09 09:03:46 INFO: Linkage for commit 75b1f848056ef53010965da701c5570813667349\n",
      "2020-01-09 09:03:48 INFO: Linkage for commit afdbc71db41779cf5c78c6112b581f8c94342935\n",
      "2020-01-09 09:03:48 INFO: Linkage for commit 9bd4c85eaef51539b2be2b2a3968ef6de3eb2ee8\n",
      "2020-01-09 09:03:48 INFO: Linkage for commit afc02e72c178a3bf3433fce4fba73f16ae3f5b40\n",
      "2020-01-09 09:03:49 INFO: Linkage for commit 0a7032ddc1c208e2363b1a4b1fedf2112a72e283\n",
      "2020-01-09 09:03:49 INFO: Linkage for commit 9ab8b6ffe42048c68b259a631484395917137f05\n",
      "2020-01-09 09:03:50 INFO: Linkage for commit fa174f3c8d90a31a0436257451c0c795f2d5099c\n",
      "2020-01-09 09:03:50 INFO: Linkage for commit e44d6f70dd43117aa3a58dad604d982168569529\n",
      "2020-01-09 09:03:51 INFO: Linkage for commit cc518d09c6041e545c89f5955f55a4fa1a83a25a\n",
      "2020-01-09 09:03:51 INFO: Linkage for commit 59cbb986d1b7d52b78f68c0b8861bfddac9168b8\n",
      "2020-01-09 09:03:52 INFO: Linkage for commit af1524b2ea0d44250ab1987c62047a27e20eb394\n",
      "2020-01-09 09:03:52 INFO: Linkage for commit ffc56f5c233fdae8aaae55162b8f4a1f4ec266a4\n",
      "2020-01-09 09:03:52 INFO: Linkage for commit a9e55caedcb59a1e44c1ed00a57c0d079d7deb1a\n",
      "2020-01-09 09:03:53 INFO: Linkage for commit f009c436781994fa4a7edf3a015d41f122cb59f5\n",
      "2020-01-09 09:03:53 INFO: Linkage for commit 54c9dc1f97b62f1a041db91d052fc11d72f83675\n",
      "2020-01-09 09:03:53 INFO: Linkage for commit 76ba4d92c40a9be82b6a540c69561e590d08a913\n",
      "2020-01-09 09:03:54 INFO: Linkage for commit 1f89ba39e67b9056c21a5ca1d44a040685221971\n",
      "2020-01-09 09:03:54 INFO: Linkage for commit a76ff7007b3cdb395f3d9501f1aa49e04f0a569e\n",
      "2020-01-09 09:03:54 INFO: Linkage for commit 44d70b9fdfe52f198b1a5ae1f501589b7cbcaf90\n",
      "2020-01-09 09:03:54 INFO: Linkage for commit 4d050b3c93973eb02f6d6c93f8a810a823b460af\n",
      "2020-01-09 09:03:55 INFO: Linkage for commit 42f222dbac6009ee7d00d06a661ecb79850d5781\n",
      "2020-01-09 09:03:55 INFO: Linkage for commit adb08a1d7b7679d051317081b680702efda807ce\n",
      "2020-01-09 09:03:58 INFO: Linkage for commit 5206a0e4e9c8b037e9ea3e18277a8b51b799c079\n",
      "2020-01-09 09:03:58 INFO: Linkage for commit 0285832bed0c83a89cb34917215dcc38ef63ebf4\n",
      "2020-01-09 09:03:58 INFO: Linkage for commit 1a1e66fa56a7da37da17aa187cacc1f8a1a4c3d3\n",
      "2020-01-09 09:03:59 INFO: Linkage for commit 13e1d60a7cb558040238958e4808a2262e21d644\n",
      "2020-01-09 09:03:59 INFO: Linkage for commit 0d29b130ba766c8e0d85ad68b053c6257d29acea\n",
      "2020-01-09 09:03:59 INFO: Linkage for commit d049ad8e51e6e5f92c4ae615825b1c5b19d40a97\n",
      "2020-01-09 09:04:00 INFO: Linkage for commit cd076089c3d5691c3a5b28f812b6d372976e1804\n",
      "2020-01-09 09:04:01 INFO: Linkage for commit f009c8522e64b47df904b13f4093249e2abe6b4f\n"
     ]
    },
    {
     "name": "stderr",
     "output_type": "stream",
     "text": [
      "2020-01-09 09:04:01 INFO: Linkage for commit 671a0b579ef2b6850311b3ba8c3cdfffb9a34747\n",
      "2020-01-09 09:04:03 INFO: Linkage for commit 432ab721fa614bd9e2ac218efd389bec31de7985\n",
      "2020-01-09 09:04:04 INFO: Linkage for commit 1838ff91a6a398b7930c5a9b2faa887cce890c6b\n",
      "2020-01-09 09:04:04 INFO: Linkage for commit 3fec1a2ddabcb40745ee8f79c98beb6aacebdd85\n",
      "2020-01-09 09:04:04 INFO: Linkage for commit 16a18638f2ace5902eadea3f3f413d0180df671f\n",
      "2020-01-09 09:04:04 INFO: Linkage for commit f3ebadc222805d83b3e4dc0cf4d31b7074d3c72e\n",
      "2020-01-09 09:04:05 INFO: Linkage for commit 11e04af14185d10158f2c6b781432d6d394270fd\n",
      "2020-01-09 09:04:05 INFO: Linkage for commit b1ff63671f429afc32b7c0f895d547636e127b45\n",
      "2020-01-09 09:04:06 INFO: Linkage for commit a53087dd26fbb171769b56c02777bd18ef34aed0\n",
      "2020-01-09 09:04:06 INFO: Linkage for commit 46b2acd2f3a44f32cb2c2fca326d5db5332695eb\n",
      "2020-01-09 09:04:06 INFO: Linkage for commit 686eb76a76228c3151480d4e7f630a67381ab74e\n",
      "2020-01-09 09:04:06 INFO: Linkage for commit 97989d969c61e90ee4ef456e9d53511698a24874\n",
      "2020-01-09 09:04:07 INFO: Linkage for commit d8e5f0aa5f62ad1aa473cb34f73553621bc59944\n",
      "2020-01-09 09:04:07 INFO: Linkage for commit bc6bb7b719eddfa69d4a9dbb3e8d60e719d33e4a\n",
      "2020-01-09 09:04:07 INFO: Linkage for commit 540188765620fa0c2fe6d887434fe7078149f25e\n",
      "2020-01-09 09:04:08 INFO: Linkage for commit 62f43369566488f6555c1eb25db993209313fae9\n",
      "2020-01-09 09:04:08 INFO: Linkage for commit 07cd8b9978b810cd2c0bffcaad453fcab9a09233\n",
      "2020-01-09 09:04:08 INFO: Linkage for commit 2cf410eb1e3aeb4453a55e3a1663a81d6472e2c4\n",
      "2020-01-09 09:04:09 INFO: Linkage for commit ab494596e7e859a73df58e1c9aca6ffa3da8ea92\n",
      "2020-01-09 09:04:10 INFO: Linkage for commit 3dd78ea41d6e15af7805b7f68e7b3c4549d3787a\n",
      "2020-01-09 09:04:10 INFO: Linkage for commit 227c22e3cb0091cb8a2a718459a64b18d003b8fd\n",
      "2020-01-09 09:04:11 INFO: Linkage for commit e4d7cb186ab3910cf7148a8677b295c65881a8bb\n",
      "2020-01-09 09:04:11 INFO: Linkage for commit 0656cabed91a8005e262d7f47d4b141928aa5c13\n",
      "2020-01-09 09:04:12 INFO: Linkage for commit 39da7835ab9ef609f5bc95007c09894584fe544e\n",
      "2020-01-09 09:04:12 INFO: Linkage for commit 680582ae397bfd09486cce42748c60765cec7595\n",
      "2020-01-09 09:04:13 INFO: Linkage for commit 5bc73ac9cd2da25216ef28ee8427bf9079dc8720\n",
      "2020-01-09 09:04:13 INFO: Linkage for commit 4d5313371b7204a74998472fe198fbc46469bfce\n",
      "2020-01-09 09:04:14 INFO: Linkage for commit c3dc81f71f07abc21cd6ad5d02d3ba7c5ddde166\n",
      "2020-01-09 09:04:15 INFO: Linkage for commit 7f843f61071308e96d7fcb9ebd971b04d741c338\n",
      "2020-01-09 09:04:16 INFO: Linkage for commit 23d2271d636d668d49b11f1088aa8d57359fe5a9\n",
      "2020-01-09 09:04:17 INFO: Linkage for commit 0fb45425bb8a8d28a91c3142cb7c0a8b7321ea97\n",
      "2020-01-09 09:04:18 INFO: Linkage for commit 8c728577158a1178645627bef5998b9f2d7d37d1\n",
      "2020-01-09 09:04:18 INFO: Linkage for commit 69874d768908b9dc28b4af01233b6f13a739e19e\n",
      "2020-01-09 09:04:23 INFO: Linkage for commit a01bc65c4528ae9498fcc8a3b4f829dd4c62aa1d\n",
      "2020-01-09 09:04:32 INFO: Linkage for commit 4c9ae908f8326eb4c44810ead44a9e3e48349692\n",
      "2020-01-09 09:04:32 INFO: Linkage for commit 4e71935d27ca12d6ffc630d2175e166d9bcbc4ad\n",
      "2020-01-09 09:04:33 INFO: Linkage for commit 3f2b2c7c8cd339569d8159526861ec4832ab8f1b\n",
      "2020-01-09 09:04:33 INFO: Linkage for commit 2baf5d6984f968eb9a30e48ca05097920d1e6314\n",
      "2020-01-09 09:04:33 INFO: Linkage for commit 79e21575ad69e101b594d5806a5972f24b5f0ad3\n",
      "2020-01-09 09:04:33 INFO: Linkage for commit e31052bc39f11d076c0223777cb0400413dc96ab\n",
      "2020-01-09 09:04:34 INFO: Linkage for commit 4255bf485a59555da5c1c463a98d311679d652c0\n",
      "2020-01-09 09:04:35 INFO: Linkage for commit d46f31848ac5eea6c6947a1a5a78c0463c946e6f\n",
      "2020-01-09 09:04:35 INFO: Linkage for commit 3d5920e8cdc6a5a8c25ffcf2e17bad094d43eb2d\n",
      "2020-01-09 09:04:36 INFO: Linkage for commit 03631c83b0b6f982c7dcd1f284c12534bf74026f\n",
      "2020-01-09 09:04:36 INFO: Linkage for commit 6a54e2ff1eb69c7333038bd2b66dda64505bc3e9\n",
      "2020-01-09 09:04:39 INFO: Linkage for commit d2965be1a79608604aa8f38ba6a9939668296674\n",
      "2020-01-09 09:04:39 INFO: Linkage for commit 6fb040a4fd8f5e5517f2d84d466022325b09d1b5\n",
      "2020-01-09 09:04:40 INFO: Linkage for commit 2dd2e6f67aba00c26ed377fad7763dde6d211343\n",
      "2020-01-09 09:04:43 INFO: Linkage for commit 384ce7424ca6c0a993d82b464e5568642d0f04ca\n",
      "2020-01-09 09:04:43 INFO: Linkage for commit b965a22c133396dedf7dba99831fc80ae72cca61\n",
      "2020-01-09 09:04:43 INFO: Linkage for commit d0295ef3530c812b3be404a1a82db4d23e912212\n",
      "2020-01-09 09:04:44 INFO: Linkage for commit b4fdcc2229a22d9488874a77b466a69ef25e1dfa\n",
      "2020-01-09 09:04:45 INFO: Linkage for commit 906b5d47f496b81674993397c9ea67fa981cd965\n",
      "2020-01-09 09:04:45 INFO: Linkage for commit 2f681d81ac77ff89c1fa29f5adfa4d1eb2b72ad4\n",
      "2020-01-09 09:04:46 INFO: Linkage for commit 65f9917745b4cd57afecc21e215cb9ab9acb4ba1\n",
      "2020-01-09 09:04:46 INFO: Linkage for commit 6afef792f453cb494b37336797d7929002e210be\n",
      "2020-01-09 09:04:46 INFO: Linkage for commit 5b5b6cba2364eddff7e28aefc576c2c77340d6f6\n",
      "2020-01-09 09:04:47 INFO: Linkage for commit bc3c06e51d9cca7509116b113f332b1c93175f0c\n",
      "2020-01-09 09:04:48 INFO: Linkage for commit 9538f65d53167f3adee67ef4d82ce1019a4d9f1f\n",
      "2020-01-09 09:04:48 INFO: Linkage for commit 3935f616c7a30846211ec128879cca6653bafce7\n",
      "2020-01-09 09:04:53 INFO: Linkage for commit 5e0b836b91c2212cdfe1e3923783d5ac33d8ed38\n",
      "2020-01-09 09:04:53 INFO: Linkage for commit 2f7cd1f7e162049b00473e4348c7461b1d222311\n",
      "2020-01-09 09:04:54 INFO: Linkage for commit 3d9ed0462d4114806dafdb4e031bc3e74c8396bc\n",
      "2020-01-09 09:04:54 INFO: Linkage for commit c2ed2cfbb6ed413eb5b7d714b75c22df16f5b3a9\n",
      "2020-01-09 09:04:55 INFO: Linkage for commit bd8f9ba9882bcfe51786dbd5d75bda00c37d7d0c\n",
      "2020-01-09 09:04:55 INFO: Linkage for commit 4e37fb27b3caf8ecb1b8ab6a5a347b3d5b50ce95\n",
      "2020-01-09 09:04:56 INFO: Linkage for commit db67999b71a0503e763fc9af662c68090a01f02d\n",
      "2020-01-09 09:04:57 INFO: Linkage for commit 042db525ae3494573b39aa1e1f643ff4c3f613a0\n",
      "2020-01-09 09:04:58 INFO: Linkage for commit 502300cedde4def83b3119ee4e69285e6e793434\n",
      "2020-01-09 09:04:59 INFO: Linkage for commit c85f218993f7e499280d2d74438917c84ffea6b4\n",
      "2020-01-09 09:05:00 INFO: Linkage for commit 467d7b5c3c5d9dce13b82e3c2da4dc15fcc0999f\n",
      "2020-01-09 09:05:07 INFO: Linkage for commit 25e36583f8b983cea524df7a9e22f22d7d1b0538\n",
      "2020-01-09 09:05:07 INFO: Linkage for commit 2b7df84ae9f3e77040f2e537072a95fc65d30aaf\n",
      "2020-01-09 09:05:08 INFO: Linkage for commit a2e99688c5e9ed502742bf3cd678fb2627c20118\n",
      "2020-01-09 09:05:09 INFO: Linkage for commit 1059c21eab2e78363d79bae99f1cd37c90f1ad9f\n",
      "2020-01-09 09:05:15 INFO: Linkage for commit a51c44e5dbc90b4975ded1a9f73a4560d120a507\n",
      "2020-01-09 09:05:21 INFO: Linkage for commit fc7818641412fa665072698c2f0f12895eadb193\n",
      "2020-01-09 09:05:23 INFO: Linkage for commit 5d83d6c21c5ddcd0dbf170417c835d4455ff3093\n",
      "2020-01-09 09:05:23 INFO: Linkage for commit a888c97033f30de9bc241e33f5b734a1b28c0143\n",
      "2020-01-09 09:05:24 INFO: Linkage for commit 25a6927b6e0987838c98a62acda967d671a1affc\n",
      "2020-01-09 09:05:24 INFO: Linkage for commit 27775ca39e210c08ca47b8c3158215fd13c5e4b3\n",
      "2020-01-09 09:05:24 INFO: Linkage for commit 2400ee3ac10ce3e12e27a6c37c18cadb462615f9\n",
      "2020-01-09 09:05:25 INFO: Linkage for commit b67170f0726c7cb8eda529bfcea0081713de7e16\n",
      "2020-01-09 09:05:25 INFO: Linkage for commit e18582f912cd09a42b6cf6343ba18a703e23a67e\n",
      "2020-01-09 09:05:26 INFO: Linkage for commit 7471ada0c541c174e7f5597fe50b4bfb00366df1\n",
      "2020-01-09 09:05:27 INFO: Linkage for commit bf4f389c4853589439c253d339d7b16c08da990a\n",
      "2020-01-09 09:05:27 INFO: Linkage for commit 61dcbb271f4c97f32a5de477b81c9bccd328ac60\n",
      "2020-01-09 09:05:28 INFO: Linkage for commit 9004d716f319c6af627c75eab0d956eea866c56e\n",
      "2020-01-09 09:05:29 INFO: Linkage for commit d11d735493543a3850adfa2aee7d20ecb793c180\n",
      "2020-01-09 09:05:31 INFO: Linkage for commit 3ae7434327849d798591effa894357d7ef489e83\n",
      "2020-01-09 09:05:32 INFO: Linkage for commit 5c972575bf936ccfc41300805e806048ba5a1e1d\n",
      "2020-01-09 09:05:32 INFO: Linkage for commit 14d7f0af2f38e61681c60cbae7cedf32940498e7\n",
      "2020-01-09 09:05:32 INFO: Linkage for commit 51bec36d0d608dfa87b6381e410d2cb01baa0482\n",
      "2020-01-09 09:05:32 INFO: Linkage for commit da81db88d897373e8d168d3ce3d8dff6af433340\n",
      "2020-01-09 09:05:33 INFO: Linkage for commit 599e79fc27b99ab0a43061b99f8e0fa14a2a01be\n",
      "2020-01-09 09:05:34 INFO: Linkage for commit fc95cabc7a93ac254224610cfab7b8a89859f8f0\n"
     ]
    },
    {
     "name": "stderr",
     "output_type": "stream",
     "text": [
      "2020-01-09 09:05:34 INFO: Linkage for commit a2cc974865ef16748918a98f8240176d401dddf3\n"
     ]
    },
    {
     "name": "stdout",
     "output_type": "stream",
     "text": [
      "Commit done\n"
     ]
    },
    {
     "name": "stderr",
     "output_type": "stream",
     "text": [
      "2020-01-09 09:05:39 INFO: Linkage for commit f23cfc98807677e8edd4247950ddd63c4cabb104\n",
      "2020-01-09 09:05:40 INFO: Linkage for commit 4f8616d0af932698a8adf44132387771a05deadf\n",
      "2020-01-09 09:05:40 INFO: Linkage for commit a490f02a29eb28e07367a359d7c13a0e0a5229c7\n",
      "2020-01-09 09:05:41 INFO: Linkage for commit 04f18a6fe8a30c66ada598a6503600e3d1afb8fd\n",
      "2020-01-09 09:05:41 INFO: Linkage for commit 92c1374a3f31a31b9492a192d65a740b67352c16\n",
      "2020-01-09 09:05:42 INFO: Linkage for commit dc6127de90da1847d83b13322b6321c6941bd7d4\n",
      "2020-01-09 09:05:42 INFO: Linkage for commit 168f0d64813b7bea4b343beaaef3ee2c59c97ce9\n",
      "2020-01-09 09:05:43 INFO: Linkage for commit 3ba310dff0b15ef5fde824f7a7fd82ed51014801\n",
      "2020-01-09 09:05:43 INFO: Linkage for commit d1cfe6566192e1fcce18cd4080e09af8c0157044\n",
      "2020-01-09 09:05:47 INFO: Linking done for repothingsboard\n"
     ]
    },
    {
     "name": "stdout",
     "output_type": "stream",
     "text": [
      "Committed file done\n",
      "/Users/suvodeepmajumder/Documents/AI4SE/Data_Miner/github/data/\n",
      "thingsboard Repo Done\n",
      "0 ('19d3afa650f6796cfd261bab03c67331e0a601ca', 'f4b32ba333e1938306a729edc1c59857f639dd54')\n",
      "1 ('19d3afa650f6796cfd261bab03c67331e0a601ca', '84bbd412db0cdfb6975660ba06befb5f0d38bd31')\n"
     ]
    },
    {
     "ename": "KeyboardInterrupt",
     "evalue": "",
     "output_type": "error",
     "traceback": [
      "\u001b[0;31m---------------------------------------------------------------------------\u001b[0m",
      "\u001b[0;31mKeyboardInterrupt\u001b[0m                         Traceback (most recent call last)",
      "\u001b[0;32m<ipython-input-2-7a0649ea0ba0>\u001b[0m in \u001b[0;36m<module>\u001b[0;34m\u001b[0m\n\u001b[1;32m     31\u001b[0m         \u001b[0mdf\u001b[0m\u001b[0;34m.\u001b[0m\u001b[0mto_pickle\u001b[0m\u001b[0;34m(\u001b[0m\u001b[0mup\u001b[0m\u001b[0;34m(\u001b[0m\u001b[0mcode_path\u001b[0m\u001b[0;34m)\u001b[0m \u001b[0;34m+\u001b[0m \u001b[0;34m'/data/commit/'\u001b[0m \u001b[0;34m+\u001b[0m \u001b[0mrepo_name\u001b[0m \u001b[0;34m+\u001b[0m \u001b[0;34m'_commit.pkl'\u001b[0m\u001b[0;34m)\u001b[0m\u001b[0;34m\u001b[0m\u001b[0;34m\u001b[0m\u001b[0m\n\u001b[1;32m     32\u001b[0m         \u001b[0mget_matrix\u001b[0m \u001b[0;34m=\u001b[0m \u001b[0mgit_understand\u001b[0m\u001b[0;34m.\u001b[0m\u001b[0mMetricsGetter\u001b[0m\u001b[0;34m(\u001b[0m\u001b[0mgit_url\u001b[0m\u001b[0;34m,\u001b[0m\u001b[0mrepo_name\u001b[0m\u001b[0;34m,\u001b[0m\u001b[0mrepo_lang\u001b[0m\u001b[0;34m)\u001b[0m\u001b[0;34m\u001b[0m\u001b[0;34m\u001b[0m\u001b[0m\n\u001b[0;32m---> 33\u001b[0;31m         \u001b[0mmatrix\u001b[0m \u001b[0;34m=\u001b[0m \u001b[0mget_matrix\u001b[0m\u001b[0;34m.\u001b[0m\u001b[0mget_defective_pair_metrics\u001b[0m\u001b[0;34m(\u001b[0m\u001b[0;34m)\u001b[0m\u001b[0;34m\u001b[0m\u001b[0;34m\u001b[0m\u001b[0m\n\u001b[0m\u001b[1;32m     34\u001b[0m     \u001b[0;32mexcept\u001b[0m \u001b[0mValueError\u001b[0m \u001b[0;32mas\u001b[0m \u001b[0me\u001b[0m\u001b[0;34m:\u001b[0m\u001b[0;34m\u001b[0m\u001b[0;34m\u001b[0m\u001b[0m\n\u001b[1;32m     35\u001b[0m         \u001b[0mprint\u001b[0m\u001b[0;34m(\u001b[0m\u001b[0;34m\"Exception occured for \"\u001b[0m\u001b[0;34m,\u001b[0m\u001b[0mproject_list\u001b[0m\u001b[0;34m.\u001b[0m\u001b[0mloc\u001b[0m\u001b[0;34m[\u001b[0m\u001b[0mi\u001b[0m\u001b[0;34m,\u001b[0m\u001b[0;34m'git_url'\u001b[0m\u001b[0;34m]\u001b[0m\u001b[0;34m)\u001b[0m\u001b[0;34m\u001b[0m\u001b[0;34m\u001b[0m\u001b[0m\n",
      "\u001b[0;32m~/Documents/AI4SE/Data_Miner/github/API_V3/git_understand/git_understand.py\u001b[0m in \u001b[0;36mget_defective_pair_metrics\u001b[0;34m(self)\u001b[0m\n\u001b[1;32m    401\u001b[0m \u001b[0;34m\u001b[0m\u001b[0m\n\u001b[1;32m    402\u001b[0m             \u001b[0;31m# Create a understand file for this hash\u001b[0m\u001b[0;34m\u001b[0m\u001b[0;34m\u001b[0m\u001b[0;34m\u001b[0m\u001b[0m\n\u001b[0;32m--> 403\u001b[0;31m             \u001b[0mself\u001b[0m\u001b[0;34m.\u001b[0m\u001b[0m_create_und_files\u001b[0m\u001b[0;34m(\u001b[0m\u001b[0;34m\"clean\"\u001b[0m\u001b[0;34m)\u001b[0m\u001b[0;34m\u001b[0m\u001b[0;34m\u001b[0m\u001b[0m\n\u001b[0m\u001b[1;32m    404\u001b[0m             \u001b[0mdb_clean\u001b[0m \u001b[0;34m=\u001b[0m \u001b[0mund\u001b[0m\u001b[0;34m.\u001b[0m\u001b[0mopen\u001b[0m\u001b[0;34m(\u001b[0m\u001b[0mstr\u001b[0m\u001b[0;34m(\u001b[0m\u001b[0mself\u001b[0m\u001b[0;34m.\u001b[0m\u001b[0mclean_und_file\u001b[0m\u001b[0;34m)\u001b[0m\u001b[0;34m)\u001b[0m\u001b[0;34m\u001b[0m\u001b[0;34m\u001b[0m\u001b[0m\n\u001b[1;32m    405\u001b[0m             \u001b[0;32mfor\u001b[0m \u001b[0mfile\u001b[0m \u001b[0;32min\u001b[0m \u001b[0mdb_clean\u001b[0m\u001b[0;34m.\u001b[0m\u001b[0ments\u001b[0m\u001b[0;34m(\u001b[0m\u001b[0;34m\"class\"\u001b[0m\u001b[0;34m)\u001b[0m\u001b[0;34m:\u001b[0m\u001b[0;34m\u001b[0m\u001b[0;34m\u001b[0m\u001b[0m\n",
      "\u001b[0;32m~/Documents/AI4SE/Data_Miner/github/API_V3/git_understand/git_understand.py\u001b[0m in \u001b[0;36m_create_und_files\u001b[0;34m(self, file_name_suffix)\u001b[0m\n\u001b[1;32m    169\u001b[0m             cmd = \"/Applications/Understand.app/Contents/MacOS/und create -languages Java add {} analyze {}\".format(\n\u001b[1;32m    170\u001b[0m                 str(self.repo_path), str(und_file))\n\u001b[0;32m--> 171\u001b[0;31m         \u001b[0mout\u001b[0m\u001b[0;34m,\u001b[0m \u001b[0merr\u001b[0m \u001b[0;34m=\u001b[0m \u001b[0mself\u001b[0m\u001b[0;34m.\u001b[0m\u001b[0m_os_cmd\u001b[0m\u001b[0;34m(\u001b[0m\u001b[0mcmd\u001b[0m\u001b[0;34m)\u001b[0m\u001b[0;34m\u001b[0m\u001b[0;34m\u001b[0m\u001b[0m\n\u001b[0m\u001b[1;32m    172\u001b[0m \u001b[0;34m\u001b[0m\u001b[0m\n\u001b[1;32m    173\u001b[0m         \u001b[0;32mif\u001b[0m \u001b[0mfile_name_suffix\u001b[0m \u001b[0;34m==\u001b[0m \u001b[0;34m\"buggy\"\u001b[0m\u001b[0;34m:\u001b[0m\u001b[0;34m\u001b[0m\u001b[0;34m\u001b[0m\u001b[0m\n",
      "\u001b[0;32m~/Documents/AI4SE/Data_Miner/github/API_V3/git_understand/git_understand.py\u001b[0m in \u001b[0;36m_os_cmd\u001b[0;34m(cmd, verbose)\u001b[0m\n\u001b[1;32m    129\u001b[0m         \u001b[0;31m#print(cmd)\u001b[0m\u001b[0;34m\u001b[0m\u001b[0;34m\u001b[0m\u001b[0;34m\u001b[0m\u001b[0m\n\u001b[1;32m    130\u001b[0m         \u001b[0;32mwith\u001b[0m \u001b[0msp\u001b[0m\u001b[0;34m.\u001b[0m\u001b[0mPopen\u001b[0m\u001b[0;34m(\u001b[0m\u001b[0mcmd\u001b[0m\u001b[0;34m,\u001b[0m \u001b[0mstdout\u001b[0m\u001b[0;34m=\u001b[0m\u001b[0msp\u001b[0m\u001b[0;34m.\u001b[0m\u001b[0mPIPE\u001b[0m\u001b[0;34m,\u001b[0m \u001b[0mstderr\u001b[0m\u001b[0;34m=\u001b[0m\u001b[0msp\u001b[0m\u001b[0;34m.\u001b[0m\u001b[0mDEVNULL\u001b[0m\u001b[0;34m)\u001b[0m \u001b[0;32mas\u001b[0m \u001b[0mp\u001b[0m\u001b[0;34m:\u001b[0m\u001b[0;34m\u001b[0m\u001b[0;34m\u001b[0m\u001b[0m\n\u001b[0;32m--> 131\u001b[0;31m             \u001b[0mout\u001b[0m\u001b[0;34m,\u001b[0m \u001b[0merr\u001b[0m \u001b[0;34m=\u001b[0m \u001b[0mp\u001b[0m\u001b[0;34m.\u001b[0m\u001b[0mcommunicate\u001b[0m\u001b[0;34m(\u001b[0m\u001b[0;34m)\u001b[0m\u001b[0;34m\u001b[0m\u001b[0;34m\u001b[0m\u001b[0m\n\u001b[0m\u001b[1;32m    132\u001b[0m \u001b[0;34m\u001b[0m\u001b[0m\n\u001b[1;32m    133\u001b[0m         \u001b[0;32mif\u001b[0m \u001b[0mverbose\u001b[0m\u001b[0;34m:\u001b[0m\u001b[0;34m\u001b[0m\u001b[0;34m\u001b[0m\u001b[0m\n",
      "\u001b[0;32m~/Conda/anaconda3/lib/python3.7/subprocess.py\u001b[0m in \u001b[0;36mcommunicate\u001b[0;34m(self, input, timeout)\u001b[0m\n\u001b[1;32m    924\u001b[0m                 \u001b[0mself\u001b[0m\u001b[0;34m.\u001b[0m\u001b[0m_stdin_write\u001b[0m\u001b[0;34m(\u001b[0m\u001b[0minput\u001b[0m\u001b[0;34m)\u001b[0m\u001b[0;34m\u001b[0m\u001b[0;34m\u001b[0m\u001b[0m\n\u001b[1;32m    925\u001b[0m             \u001b[0;32melif\u001b[0m \u001b[0mself\u001b[0m\u001b[0;34m.\u001b[0m\u001b[0mstdout\u001b[0m\u001b[0;34m:\u001b[0m\u001b[0;34m\u001b[0m\u001b[0;34m\u001b[0m\u001b[0m\n\u001b[0;32m--> 926\u001b[0;31m                 \u001b[0mstdout\u001b[0m \u001b[0;34m=\u001b[0m \u001b[0mself\u001b[0m\u001b[0;34m.\u001b[0m\u001b[0mstdout\u001b[0m\u001b[0;34m.\u001b[0m\u001b[0mread\u001b[0m\u001b[0;34m(\u001b[0m\u001b[0;34m)\u001b[0m\u001b[0;34m\u001b[0m\u001b[0;34m\u001b[0m\u001b[0m\n\u001b[0m\u001b[1;32m    927\u001b[0m                 \u001b[0mself\u001b[0m\u001b[0;34m.\u001b[0m\u001b[0mstdout\u001b[0m\u001b[0;34m.\u001b[0m\u001b[0mclose\u001b[0m\u001b[0;34m(\u001b[0m\u001b[0;34m)\u001b[0m\u001b[0;34m\u001b[0m\u001b[0;34m\u001b[0m\u001b[0m\n\u001b[1;32m    928\u001b[0m             \u001b[0;32melif\u001b[0m \u001b[0mself\u001b[0m\u001b[0;34m.\u001b[0m\u001b[0mstderr\u001b[0m\u001b[0;34m:\u001b[0m\u001b[0;34m\u001b[0m\u001b[0;34m\u001b[0m\u001b[0m\n",
      "\u001b[0;31mKeyboardInterrupt\u001b[0m: "
     ]
    }
   ],
   "source": [
    "if platform.system() == 'Darwin' or platform.system() == 'Linux':\n",
    "    data_path = os.getcwd() + '/Test_projects.csv'\n",
    "else:\n",
    "    data_path = os.getcwd() + '\\\\Test_projects.csv'\n",
    "code_path = os.getcwd()\n",
    "project_list = pd.read_csv(data_path)\n",
    "for i in range(project_list.shape[0]):\n",
    "    try:\n",
    "        print(\"I am here\")\n",
    "        understand_source = []\n",
    "        last_analyzed = None\n",
    "        access_token = project_list.loc[i,'access_token']\n",
    "        repo_owner = project_list.loc[i,'repo_owner']\n",
    "        source_type = project_list.loc[i,'source_type']\n",
    "        git_url = project_list.loc[i,'git_url']\n",
    "        api_base_url = project_list.loc[i,'api_base_url']\n",
    "        repo_name = project_list.loc[i,'repo_name']\n",
    "        repo_lang = project_list.loc[i,'lang']\n",
    "        understand_source.append([1,repo_name,git_url,last_analyzed])\n",
    "        understand_source_df = pd.DataFrame(understand_source,columns = ['id','name','url','last_analyzed'])\n",
    "        cas_manager = CAS_Manager(understand_source_df)\n",
    "        cas_manager.start()\n",
    "        git_data = git2data.git2data(access_token,repo_owner,source_type,git_url,api_base_url,repo_name)\n",
    "        #git_data = release_mine.git2data(access_token,repo_owner,source_type,git_url,api_base_url,repo_name)\n",
    "        git_data.create_data()\n",
    "        os.chdir(code_path)\n",
    "        df_commit = pd.read_pickle(up(code_path) + '/data/commit/' + repo_name + '_commit.pkl')\n",
    "        df_commit_guru = pd.read_csv(up(code_path) + '/data/commit_guru/' + repo_name + '.csv')\n",
    "        df_commit_guru_subset = df_commit_guru[['commit_hash','contains_bug']].fillna(False)\n",
    "        df = pd.merge(df_commit,df_commit_guru_subset, on='commit_hash',how='inner')\n",
    "        df.to_pickle(up(code_path) + '/data/commit/' + repo_name + '_commit.pkl')\n",
    "        get_matrix = git_understand.MetricsGetter(git_url,repo_name,repo_lang)\n",
    "        matrix = get_matrix.get_defective_pair_metrics()\n",
    "    except ValueError as e:\n",
    "        print(\"Exception occured for \",project_list.loc[i,'git_url'])\n",
    "        print(e)\n",
    "        continue"
   ]
  },
  {
   "cell_type": "code",
   "execution_count": null,
   "metadata": {},
   "outputs": [],
   "source": [
    "cas_manager = CAS_Manager()\n",
    "cas_manager.start()"
   ]
  },
  {
   "cell_type": "code",
   "execution_count": null,
   "metadata": {},
   "outputs": [],
   "source": [
    "for i in range(project_list.shape[0]):\n",
    "    repo_name = project_list.loc[i,'repo_name']\n",
    "    df_commit = pd.read_pickle('/Users/suvodeepmajumder/Documents/AI4SE/Data_Miner/github/data/commit/' + repo_name + '_commit.pkl')\n",
    "    df_commit_guru = pd.read_csv('/Users/suvodeepmajumder/Documents/AI4SE/Data_Miner/github/data/commit_guru/' + repo_name + '.csv')\n",
    "    df_commit_guru_subset = df_commit_guru[['commit_hash','contains_bug']].fillna(False)\n",
    "    df = pd.merge(df_commit,df_commit_guru_subset, on='commit_hash',how='inner')\n",
    "    df.to_pickle('/Users/suvodeepmajumder/Documents/AI4SE/Data_Miner/github/data/commit/' + repo_name + '_commit.pkl')\n"
   ]
  },
  {
   "cell_type": "code",
   "execution_count": null,
   "metadata": {},
   "outputs": [],
   "source": [
    "if platform.system() == 'Darwin' or platform.system() == 'Linux':\n",
    "    data_path = os.getcwd() + '/Test_projects.csv'\n",
    "else:\n",
    "    data_path = os.getcwd() + '\\\\Test_projects.csv'\n",
    "\n",
    "project_list = pd.read_csv(data_path)\n",
    "print(project_list)\n",
    "\n",
    "for i in range(project_list.shape[0]):\n",
    "    try:\n",
    "        repo_url = project_list.loc[i,'git_url']\n",
    "        repo_name = project_list.loc[i,'repo_name']\n",
    "        repo_lang = project_list.loc[i,'lang']\n",
    "        get_matrix = git_understand.MetricsGetter(repo_url,repo_name,repo_lang)\n",
    "        #commits = get_matrix.read_commits()\n",
    "        #matrix = get_matrix.run()\n",
    "        matrix = get_matrix.get_defective_pair_metrics()\n",
    "    except ValueError:\n",
    "        print(\"Error\")"
   ]
  },
  {
   "cell_type": "code",
   "execution_count": null,
   "metadata": {},
   "outputs": [],
   "source": [
    "df_new = pd.merge(matrix,df_commit_guru, on='commit_hash',how='inner')\n",
    "df_new = df_new.dropna()\n",
    "df_new.to_csv('/Users/suvodeepmajumder/Documents/AI4SE/Data_Miner/github/data/commit_guru_understand/uhabits.csv',index=False)"
   ]
  },
  {
   "cell_type": "code",
   "execution_count": null,
   "metadata": {},
   "outputs": [],
   "source": [
    "matrix_1 = matrix.drop(['Name','commit_hash'],axis = 1)\n",
    "matrix_1 = matrix_1.drop_duplicates()\n",
    "matrix_1.shape"
   ]
  },
  {
   "cell_type": "code",
   "execution_count": null,
   "metadata": {},
   "outputs": [],
   "source": [
    "matrix_1.columns"
   ]
  },
  {
   "cell_type": "code",
   "execution_count": null,
   "metadata": {},
   "outputs": [],
   "source": [
    "os.getcwd()"
   ]
  },
  {
   "cell_type": "code",
   "execution_count": null,
   "metadata": {},
   "outputs": [],
   "source": []
  }
 ],
 "metadata": {
  "kernelspec": {
   "display_name": "Python 3",
   "language": "python",
   "name": "python3"
  },
  "language_info": {
   "codemirror_mode": {
    "name": "ipython",
    "version": 3
   },
   "file_extension": ".py",
   "mimetype": "text/x-python",
   "name": "python",
   "nbconvert_exporter": "python",
   "pygments_lexer": "ipython3",
   "version": "3.7.3"
  }
 },
 "nbformat": 4,
 "nbformat_minor": 2
}
