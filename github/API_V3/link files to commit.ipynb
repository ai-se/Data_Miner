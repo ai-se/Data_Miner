{
 "cells": [
  {
   "cell_type": "code",
   "execution_count": 5,
   "metadata": {},
   "outputs": [
    {
     "name": "stdout",
     "output_type": "stream",
     "text": [
      "Empty DataFrame\n",
      "Columns: [Name, Team, Position, Number, Age, Height, Weight, College, Salary]\n",
      "Index: []\n"
     ]
    }
   ],
   "source": [
    "# importing pandas as pd \n",
    "import pandas as pd \n",
    "\n",
    "# Creating the dataframe with dict of lists \n",
    "df = pd.DataFrame({'Name': ['Geeks', 'Peter', 'James', 'Jack', 'Lisa'], \n",
    "'Team': ['Boston', 'Boston', 'Boston', 'Chele', 'Barse'], \n",
    "'Position': ['PG', 'PG', 'UG', 'PG', 'UG'], \n",
    "'Number': [3, 4, 7, 11, 5], \n",
    "'Age': [33, 25, 34, 35, 28], \n",
    "'Height': ['6-2', '6-4', '5-9', '6-1', '5-8'], \n",
    "'Weight': [89, 79, 113, 78, 84], \n",
    "'College': ['MIT', 'MIT', 'MIT', 'Stanford', 'Stanford'], \n",
    "'Salary': [99999, 99994, 89999, 78889, 87779]}, \n",
    "index =['ind1', 'ind2', 'ind3', 'ind4', 'ind5']) \n",
    "\n",
    "df1 = df[df['Position'].str.contains(\"PGP\")] \n",
    "print(df1) \n",
    "\n"
   ]
  },
  {
   "cell_type": "code",
   "execution_count": 6,
   "metadata": {},
   "outputs": [],
   "source": [
    "df_name = df.Name"
   ]
  },
  {
   "cell_type": "code",
   "execution_count": 9,
   "metadata": {},
   "outputs": [
    {
     "data": {
      "text/plain": [
       "ind1     True\n",
       "ind2    False\n",
       "ind3    False\n",
       "ind4    False\n",
       "ind5    False\n",
       "Name: Name, dtype: bool"
      ]
     },
     "execution_count": 9,
     "metadata": {},
     "output_type": "execute_result"
    }
   ],
   "source": [
    "df_name.str.match('Geek')"
   ]
  },
  {
   "cell_type": "code",
   "execution_count": null,
   "metadata": {},
   "outputs": [],
   "source": []
  },
  {
   "cell_type": "code",
   "execution_count": null,
   "metadata": {},
   "outputs": [],
   "source": []
  }
 ],
 "metadata": {
  "kernelspec": {
   "display_name": "Python 3",
   "language": "python",
   "name": "python3"
  },
  "language_info": {
   "codemirror_mode": {
    "name": "ipython",
    "version": 3
   },
   "file_extension": ".py",
   "mimetype": "text/x-python",
   "name": "python",
   "nbconvert_exporter": "python",
   "pygments_lexer": "ipython3",
   "version": "3.7.3"
  }
 },
 "nbformat": 4,
 "nbformat_minor": 2
}
